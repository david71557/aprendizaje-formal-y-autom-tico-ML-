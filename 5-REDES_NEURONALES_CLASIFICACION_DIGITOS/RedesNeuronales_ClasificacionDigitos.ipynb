{
 "cells": [
  {
   "cell_type": "markdown",
   "metadata": {},
   "source": [
    "# Aprendizaje Formal\n",
    "\n",
    "## Práctica 7: Redes neuronales y clasificación de dígitos\n",
    "\n",
    "En esta práctica vamos a tratar con el problema de reconocimiento de dígitos para lo cual implementaremos una red neuronal, con la propagación hacia adelante y hacia atrás. Además, implementaremos las versiones con y sin regularización de la función de coste y la inicialización aleatoria de los pesos. Finalmente, utilizaremos la red para realizar predicciones.\n",
    "\n",
    "## Índice de la práctica\n",
    "\n",
    "- [Lectura y visualización de datos](#Lectura-y-visualización-de-datos)\n",
    "- [Implementación de una Red Neuronal Multicapa](#Implementación-de-una-Red-Neuronal-Multicapa)\n",
    "- [Propagación hacia adelante (feed-forward)](#Propagación-hacia-adelante---feed-forward)\n",
    "    - [Función de coste](#Función-de-coste)\n",
    "    - [Función de coste con regularización](#Función-de-coste-con-regularización)\n",
    "    - [Propagación hacia atrás (backpropagation)](#Propagación-hacia-atrás---backpropagation )\n",
    "    - [Propagación hacia atrás (backpropagation) con regularización](#Propagación-hacia-atrás---backpropagation---con-regularización)\n",
    "- [Entrenamiento de la red y clasificación](#Entrenamiento-de-la-red-y-clasificación)\n",
    "- [Tarea opcional](#Tarea-opcional)\n",
    "\n"
   ]
  },
  {
   "cell_type": "markdown",
   "metadata": {},
   "source": [
    "## Lectura y visualización de datos\n",
    "\n",
    "El conjunto de datos está disponible en el fichero `ex7data` que como siempre leeremos con `loadtxt` (delimitado por comas). El conjunto de datos tiene 5000 ejemplos. La última columna contiene la clase (los dígitos de 0 a 9)."
   ]
  },
  {
   "cell_type": "code",
   "execution_count": 1,
   "metadata": {},
   "outputs": [
    {
     "name": "stdout",
     "output_type": "stream",
     "text": [
      "(5000, 400) (5000, 1)\n"
     ]
    }
   ],
   "source": [
    "import numpy as np\n",
    "import pandas as pd\n",
    "import matplotlib.pyplot as plt\n",
    "from test_helper import Test\n",
    "%matplotlib inline\n",
    "\n",
    "data = np.loadtxt('ex7data.txt',delimiter=',')\n",
    "X = data[:, :-1]\n",
    "y = data[:, -1].reshape(-1, 1)\n",
    "print X.shape, y.shape"
   ]
  },
  {
   "cell_type": "markdown",
   "metadata": {},
   "source": [
    "Para comprender mejor el problema con el que tratamos, vamos a comenzar mostrando los ejemplos que tenemos. Cada ejemplo está formado por 400 características, que son realmente las intensidades de cada píxel de una imagen de 20x20. Vamos a comprobar que esto es así mostrando diez ejemplos aleatorios (puedes ejecutar varias veces el código para ver diferentes ejemplos). En el título, aparece la clase real del ejemplo en cuestión."
   ]
  },
  {
   "cell_type": "code",
   "execution_count": 2,
   "metadata": {},
   "outputs": [
    {
     "data": {
      "image/png": "[encoded data removed]",
      "text/plain": [
       "<Figure size 1440x144 with 9 Axes>"
      ]
     },
     "metadata": {
      "needs_background": "light"
     },
     "output_type": "display_data"
    }
   ],
   "source": [
    "plt.figure(figsize=(20,2))\n",
    "\n",
    "for degree in range(9):\n",
    "    plt.subplot(191+degree)\n",
    "    index = np.random.randint(0, X.shape[0])\n",
    "    img = X[index, :].reshape(20, 20, order='F')\n",
    "    plt.imshow(img, cmap=plt.cm.gray)\n",
    "    plt.title(y[index])\n",
    "    plt.axis('off')\n",
    "plt.show()"
   ]
  },
  {
   "cell_type": "markdown",
   "metadata": {},
   "source": [
    "¿Seremos capaces de entrenar una red que pueda distinguir el dígito que aparece en la imagen? Lo veremos a lo largo de la práctica."
   ]
  },
  {
   "cell_type": "markdown",
   "metadata": {},
   "source": [
    "# Implementación de una Red Neuronal Multicapa"
   ]
  },
  {
   "cell_type": "markdown",
   "metadata": {},
   "source": [
    "Como hemos visto en teoría, para trabajar con problemas multi-clase con redes neuronales necesitamos transformar la salida que es un solo valor (la clase) a un vector de 0s y 1s, en donde el 1 en la posición correspondiente nos indique a qué clase pertenece el ejemplo. Esto es necesario ya que vamos a tener una neurona de salida para cada una de las clases.\n",
    "\n",
    "Para lograr esta transformación vamos a usar el método OneHotEncoder de scikit, que hace precísamente esa tarea. One-hot enconding convierte una etiqueta de clase $n$ (de entre $k$ clases) en un vector de longitud $k$ donde el índice $n$ está \"hot\" (activado, es decir, a 1), mientras que el resto están a 0."
   ]
  },
  {
   "cell_type": "code",
   "execution_count": 3,
   "metadata": {},
   "outputs": [
    {
     "name": "stdout",
     "output_type": "stream",
     "text": [
      "(5000, 10)\n"
     ]
    },
    {
     "name": "stderr",
     "output_type": "stream",
     "text": [
      "C:\\Python27\\lib\\site-packages\\sklearn\\preprocessing\\_encoders.py:371: FutureWarning: The handling of integer data will change in version 0.22. Currently, the categories are determined based on the range [0, max(values)], while in the future they will be determined based on the unique values.\n",
      "If you want the future behaviour and silence this warning, you can specify \"categories='auto'\".\n",
      "In case you used a LabelEncoder before this OneHotEncoder to convert the categories to integers, then you can now use the OneHotEncoder directly.\n",
      "  warnings.warn(msg, FutureWarning)\n"
     ]
    }
   ],
   "source": [
    "from sklearn.preprocessing import OneHotEncoder\n",
    "encoder = OneHotEncoder(sparse=False)\n",
    "# Aplica el fit_transform de scikit a y para obtener el nuevo y_onehot\n",
    "y_onehot = encoder.fit_transform(y)\n",
    "print y_onehot.shape"
   ]
  },
  {
   "cell_type": "code",
   "execution_count": 4,
   "metadata": {},
   "outputs": [
    {
     "name": "stdout",
     "output_type": "stream",
     "text": [
      "1 test passed.\n"
     ]
    }
   ],
   "source": [
    "y[0], y_onehot[0,:]\n",
    "Test.assertEquals(list(y_onehot[0,:]), [ 1.,  0.,  0.,  0.,  0.,  0.,  0.,  0.,  0.,  0.], 'One-hot encoding incorrecto')"
   ]
  },
  {
   "cell_type": "markdown",
   "metadata": {},
   "source": [
    "La red neuronal que vamos a construir para este ejercicio tiene tantas neuronas de entrada como características tienen nuestros ejemplos (400 + la unidad de bias). La capa oculta tendrá 25 neuronas (26 con el bias), y la capa de salida tendrá 10 neuronas, que cada una de ellas corresponde a una de las clases. \n",
    "\n",
    "Lo primero que debemos haces es implementar la función de coste para evaluar el coste para un conjunto de parámetros dado. Para ello, primero necesitamos aplicar la propagación hacia adelante, que nos de la salida para cada ejemplo de entrada.\n",
    "\n",
    "Vamos por pasos. Comenzamos implementando la función sigmoide.\n",
    "\n",
    "$$ g(z) = \\frac{1}{1+e^{-z}} $$"
   ]
  },
  {
   "cell_type": "code",
   "execution_count": 5,
   "metadata": {},
   "outputs": [],
   "source": [
    "def sigmoid(z):\n",
    "    return float(1)/(1 + np.exp(-z))"
   ]
  },
  {
   "cell_type": "markdown",
   "metadata": {},
   "source": [
    "## Propagación hacia adelante - feed-forward\n",
    "A continuación, vamos a calcular la propagación hacia adelante. Para ello, recibimos la matriz con los datos $X$ y las dos matrices de pesos $\\Theta^{(1)}$ y $\\Theta^{(2)}$ (los pesos entre la capa de entrada y la capa oculta y los pesos entre la capa oculta y la de salida, respectivamente).\n",
    "\n",
    "Debemos seguir los siguientes pasos:\n",
    "1. Añadir el bias a todos los ejemplos de $X$ (la primera columna de 1s). Obtenemos $a^{(1)}$\n",
    "2. Obtenemos $z^{(2)}=a^{(1)}·\\Theta^{(1)}$\n",
    "3. Obtenemos $a^{(2)}$ a partir de $z^{(2)}$ aplicando la sigmoide ($a^{(2)}=g(z^{(2)})$  y le añadimos el bias (primera columna de 1s).\n",
    "4. Obtenemos $z^{(3)}=a^{(2)}·\\Theta^{(2)}$\n",
    "5. Obtenemos $h_{\\Theta}(X)=g(z^{(3)})$\n",
    "\n",
    "En $h_{\\Theta}(X)$ tenemos por tanto una matriz de $5000\\times 10$ con las salidas de las 10 neuronas para cada uno de los 5000 ejemplos. La siguiente figura clarifica el proceso.\n",
    "![Feed Forward](img_forward.png)"
   ]
  },
  {
   "cell_type": "code",
   "execution_count": 6,
   "metadata": {},
   "outputs": [],
   "source": [
    "def forward_propagate(X, theta1, theta2):\n",
    "    m = X.shape[0]\n",
    "    \n",
    "    # Añadimos la columna de unos a X para obtener a1\n",
    "    a1 = np.hstack((np.ones((X.shape[0], 1)), X)) #sería lo mismo np.insert(X, 0, values=np.ones(m), axis=1)\n",
    "    # Calculamos z2\n",
    "    z2 = a1 * theta1.T\n",
    "    # Añadimos la columna de unos a la sigmoide de z2 (que es a2) para obtener el a2 definitivo\n",
    "    a2 = np.hstack((np.ones((X.shape[0], 1)), sigmoid(z2))) #sería lo mismo np.insert(sigmoid(z2), 0, values=np.ones(m), axis=1)\n",
    "    # Calculamos z3\n",
    "    z3 = a2 * theta2.T\n",
    "    # Obtenemos la salida final\n",
    "    h = sigmoid(z3)\n",
    "    \n",
    "    return a1, z2, a2, z3, h"
   ]
  },
  {
   "cell_type": "markdown",
   "metadata": {},
   "source": [
    "## Función de coste "
   ]
  },
  {
   "cell_type": "markdown",
   "metadata": {},
   "source": [
    "Con la propagación hacia adelante, ya podemos calcular la función de coste:\n",
    "$$ J(\\theta) = \\frac{1}{m}\\sum_{i=1}^{m}\\sum_{k=1}^{K}\\big[-y^{(i)}_{k}\\, log\\,(( h_\\theta\\,(x^{(i)}))_k)-(1-y^{(i)}_k)\\,log\\,(1-h_\\theta(x^{(i)}))_k)\\big]$$\n",
    "\n",
    "Aquí debemos tener cuidado porque para utilizar la función `minimize` de scipy, los parámetros $\\Theta^{(1)}$ y $\\Theta^{(2)}$ nos llegan en un único parámetro `params` y debemos desempaquetarlas. Además, hay que tener en cuenta que $y$ es una matriz de ejemplos x número de clases (5000x10 en este caso). Y por tanto, la salida que nos da la propagación hacia adelante que será de 5000x10 y la $y$ serán directamente comparables. La función de coste nos da una estimación de cómo de poco parecidas son $y$ y $h_\\Theta(X)$."
   ]
  },
  {
   "cell_type": "code",
   "execution_count": 7,
   "metadata": {},
   "outputs": [],
   "source": [
    "def cost(params, input_size, hidden_size, num_labels, X, y):\n",
    "    m = X.shape[0]\n",
    "    X = np.matrix(X)\n",
    "    y = np.matrix(y)\n",
    "    \n",
    "    # desempaquetamos las matrices con los parámetros para cada capa\n",
    "    theta1 = np.matrix(np.reshape(params[:hidden_size * (input_size + 1)], (hidden_size, (input_size + 1))))\n",
    "    theta2 = np.matrix(np.reshape(params[hidden_size * (input_size + 1):], (num_labels, (hidden_size + 1))))\n",
    "    \n",
    "    # Ejecutamos las propagación hacia adelante para obtener las salidas para cada ejemplo\n",
    "    a1, z2, a2, z3, h = forward_propagate(X,theta1,theta2)\n",
    "    \n",
    "    # Calculamos el coste\n",
    "    primer_termino = np.multiply(-y,np.log(h))\n",
    "    segundo_termino = np.multiply((1 - y), np.log(1 - h))\n",
    "    J = np.sum(primer_termino - segundo_termino) # el sum hace el doble sumatorio de clases, por columnas y de ejemplos por filas\n",
    "    \n",
    "    J = J / float(m)\n",
    "    \n",
    "    return J"
   ]
  },
  {
   "cell_type": "markdown",
   "metadata": {},
   "source": [
    "Vamos a comprobar que lo  implementado hasta ahora funciona correctamente (también devolvemos los pasos intermedio porque serán útiles más adelante)."
   ]
  },
  {
   "cell_type": "code",
   "execution_count": 8,
   "metadata": {},
   "outputs": [
    {
     "data": {
      "text/plain": [
       "((25, 401), (10, 26))"
      ]
     },
     "execution_count": 8,
     "metadata": {},
     "output_type": "execute_result"
    }
   ],
   "source": [
    "# Configuración inicial\n",
    "input_size = 400\n",
    "hidden_size = 25\n",
    "num_labels = 10\n",
    "np.random.seed(123456789)\n",
    "\n",
    "# Inicializamos los parámetros de la red aleatoriamente\n",
    "# El tamaño del array es el tamaño de las dos matrices de pesos concatenadas\n",
    "params = (np.random.random(size=hidden_size * (input_size + 1) + num_labels * (hidden_size + 1)) - 0.5) * 0.25\n",
    "\n",
    "# Podemos desempaquetar los parámetros que acabamos de inicializar igual que lo hacemos en la función de coste\n",
    "theta1 = np.matrix(np.reshape(params[:hidden_size * (input_size + 1)], (hidden_size, (input_size + 1))))\n",
    "theta2 = np.matrix(np.reshape(params[hidden_size * (input_size + 1):], (num_labels, (hidden_size + 1))))\n",
    "\n",
    "# Veamos si los tamaños de las matrices theta1 y theta2 son correctos\n",
    "theta1.shape, theta2.shape"
   ]
  },
  {
   "cell_type": "code",
   "execution_count": 9,
   "metadata": {},
   "outputs": [
    {
     "name": "stdout",
     "output_type": "stream",
     "text": [
      "(5000, 401) (5000, 25) (5000, 26) (5000, 10) (5000, 10)\n",
      "1 test passed.\n"
     ]
    }
   ],
   "source": [
    "a1, z2, a2, z3, h = forward_propagate(X,theta1,theta2)\n",
    "print a1.shape, z2.shape, a2.shape, z3.shape, h.shape\n",
    "\n",
    "Test.assertEquals(map(lambda x: round(x, 4), h[55, :].ravel().tolist()[0]), [ 0.4401, 0.5554, 0.3921, 0.4379,0.4063,  0.4987,  0.5222, 0.4887, 0.6124, 0.5376], 'Resultado de la propagación hacia adelante incorrecto')"
   ]
  },
  {
   "cell_type": "markdown",
   "metadata": {},
   "source": [
    "Sabiendo que la función de propagación hacia adelante funciona correctamente, veamos si la función de coste también funciona como debe."
   ]
  },
  {
   "cell_type": "code",
   "execution_count": 10,
   "metadata": {},
   "outputs": [
    {
     "name": "stdout",
     "output_type": "stream",
     "text": [
      "6.8223773858037955\n",
      "1 test passed.\n"
     ]
    }
   ],
   "source": [
    "error = cost(params, input_size, hidden_size, num_labels, X, y_onehot)\n",
    "print error\n",
    "Test.assertEquals(round(error, 4), 6.8224, 'Función de coste incorrecta')"
   ]
  },
  {
   "cell_type": "markdown",
   "metadata": {},
   "source": [
    "## Función de coste con regularización"
   ]
  },
  {
   "cell_type": "markdown",
   "metadata": {},
   "source": [
    "Una vez implementada la función de coste sin regularización, vamos a pasar a la versión regularizada. Realmente el único cambio es que debemos sumar la parte correspondiente a la regularización (la suma de los parámetros al cuadrado sin contar los que corresponden a los bias).\n",
    "\n",
    "$$ J(\\theta) = \\frac{1}{m}\\sum_{i=1}^{m}\\sum_{k=1}^{K}\\bigg[-y^{(i)}_{k}\\, log\\,(( h_\\theta\\,(x^{(i)}))_k)-(1-y^{(i)}_k)\\,log\\,(1-h_\\theta(x^{(i)}))_k)\\bigg] + \\frac{\\lambda}{2m}\\bigg[\\sum_{j=1}^{25}\\sum_{k=1}^{400}(\\Theta_{j,k}^{(1)})^2+\\sum_{j=1}^{10}\\sum_{k=1}^{25}(\\Theta_{j,k}^{(2)})^2\\bigg]$$"
   ]
  },
  {
   "cell_type": "code",
   "execution_count": 11,
   "metadata": {},
   "outputs": [],
   "source": [
    "def costReg(params, input_size, hidden_size, num_labels, X, y, lambda_reg):\n",
    "    m = X.shape[0]\n",
    "    X = np.matrix(X)\n",
    "    y = np.matrix(y)\n",
    "    \n",
    "    # desempaquetamos las matrices con los parámetros para cada capa\n",
    "    theta1 = np.matrix(np.reshape(params[:hidden_size * (input_size + 1)], (hidden_size, (input_size + 1))))\n",
    "    theta2 = np.matrix(np.reshape(params[hidden_size * (input_size + 1):], (num_labels, (hidden_size + 1))))\n",
    "    \n",
    "    # Ejecutamos las propagación hacia adelante para obtener las salidas para cada ejemplo\n",
    "    a1, z2, a2, z3, h = forward_propagate(X,theta1,theta2)\n",
    "    \n",
    "    # Calculamos el coste\n",
    "    primer_termino = np.multiply(-y,np.log(h))\n",
    "    segundo_termino = np.multiply((1 - y), np.log(1 - h))\n",
    "    J = np.sum(primer_termino - segundo_termino) # el sum hace el doble sumatorio de clases, por columnas y de ejemplos por filas\n",
    "    \n",
    "    J = J / float(m)\n",
    "\n",
    "    # Añadimos el término de regularización\n",
    "    # La suma de los parámetros al cuadrado sin considerar la primera columna en ninguna de las dos matrices de parámetros\n",
    "    J += lambda_reg/(2*float(m)) * (np.sum(np.power(theta1[:,1:], 2)) + np.sum(np.power(theta2[:,1:], 2)))\n",
    "    \n",
    "    return J"
   ]
  },
  {
   "cell_type": "code",
   "execution_count": 12,
   "metadata": {},
   "outputs": [
    {
     "name": "stdout",
     "output_type": "stream",
     "text": [
      "6.827724308940754\n",
      "1 test passed.\n"
     ]
    }
   ],
   "source": [
    "# Establecemos el valor de lambda\n",
    "lambda_reg = 1.0\n",
    "error = costReg(params, input_size, hidden_size, num_labels, X, y_onehot,lambda_reg)\n",
    "print error\n",
    "Test.assertEquals(round(error, 4), 6.8277, 'Función de coste incorrecta')"
   ]
  },
  {
   "cell_type": "markdown",
   "metadata": {},
   "source": [
    "## Propagación hacia atrás - backpropagation\n",
    "A continuación debemos implementar el algoritmo de backprogation (propagación hacia atrás). Esta parte del algoritmo calcula la actualización de los parámetros con el objetivo de reducir el error sobre el conjunto de entrenamiento. \n",
    "\n",
    "En primer lugar necesitamos calcular el gradiente de la función sigmoide que hemos implementado antes:\n",
    "$$ g'(z) = g(z)(1 - g(z))$$\n",
    "Ten en cuenta que debes aplicar el producto elemento por elemento (con `np.multiply`)."
   ]
  },
  {
   "cell_type": "code",
   "execution_count": 13,
   "metadata": {},
   "outputs": [],
   "source": [
    "def sigmoid_gradient(z):\n",
    "    return np.multiply(sigmoid(z),(1-sigmoid(z)))"
   ]
  },
  {
   "cell_type": "markdown",
   "metadata": {},
   "source": [
    "Ahora ya podemos implementar la propagación hacia atrás para calcular los gradientes. Como los cálculos requeridos por backpropagation involucran a todos los calculos realizados en la función de coste, vamos realmente a extender la función de coste que acabamos de implementar para que también calcule la propagación hacia atrás y devuelva el coste y los gradientes (de tal forma que luego podamos usar `minimize`).\n",
    "\n",
    "![Backpropagation](img_backprop.png)\n",
    "\n",
    "**Algoritmo**\n",
    "\n",
    "Inicializamos $\\Delta^{(1)}_{ij}$ y $\\Delta^{(2)}_{ij}$ a 0 (lo utilizamos para calcular el gradiente)\n",
    "\n",
    "Para cada ejemplo $i=0,...,m$\n",
    "1. Calculamos el error en la capa de salida $$\\delta^{(3)} = h_\\Theta(x^{(i)})-y^{(i)}$$ (tener en cuenta que $y$ es un vector en este caso y por tanto tenemos el error en las 10 neuronas de salida).\n",
    "2. Calculamos el error para la capa oculta $\\delta^{(2)}$ propagando el error en la capa de salida $\\delta^{(3)}$:\n",
    "$$\\delta^{(2)}=(\\Theta^{(2)})^T·\\delta^{(3)}.*g'(z^{(2)})$$ \n",
    "Para poder aplicar la fórmula debemos añadir una columna de unos a $z^{(2)}$.\n",
    "3. Sumamos el valor del gradiente en cada caso acumulador correspondiente\n",
    "$$\\Delta^{(l)}_{ij}=\\Delta^{(l)}_{ij}+\\delta^{(l+1)}(a^{(l)})^T$$\n",
    "Es decir,\n",
    "$$\\Delta^{(1)}_{ij}=\\Delta^{(1)}_{ij}+\\delta^{(2)}(a^{(1)})^T$$ (eliminando el primer elemento de $\\delta^{(2)}$)\n",
    "y\n",
    "$$\\Delta^{(2)}_{ij}=\\Delta^{(2)}_{ij}+\\delta^{(3)}(a^{(2)})^T$$\n",
    "\n",
    "Finalmente, solo debemos calcular los gradientes $D^{(l)}_ij$ como\n",
    "$$D^{(l)}_{ij}= \\frac{\\Delta^{(l)}_{ij}}{m}$$"
   ]
  },
  {
   "cell_type": "code",
   "execution_count": 14,
   "metadata": {},
   "outputs": [],
   "source": [
    "def backprop(params, input_size, hidden_size, num_labels, X, y):\n",
    "    ###################################################################\n",
    "    # Copiar aquí el código de la función de coste sin regularización #\n",
    "    ###################################################################\n",
    "    m = X.shape[0]\n",
    "    X = np.matrix(X)\n",
    "    y = np.matrix(y)\n",
    "    \n",
    "    # desempaquetamos las matrices con los parámetros para cada capa\n",
    "    theta1 = np.matrix(np.reshape(params[:hidden_size * (input_size + 1)], (hidden_size, (input_size + 1))))\n",
    "    theta2 = np.matrix(np.reshape(params[hidden_size * (input_size + 1):], (num_labels, (hidden_size + 1))))\n",
    "    \n",
    "    # Ejecutamos las propagación hacia adelante para obtener las salidas para cada ejemplo\n",
    "    a1, z2, a2, z3, h = forward_propagate(X,theta1,theta2)\n",
    "    \n",
    "    # Calculamos el coste\n",
    "    primer_termino = np.multiply(-y,np.log(h))\n",
    "    segundo_termino = np.multiply((1 - y), np.log(1 - h))\n",
    "    J = np.sum(primer_termino - segundo_termino) # el sum hace el doble sumatorio de clases, por columnas y de ejemplos por filas\n",
    "    \n",
    "    J = J / float(m)\n",
    "    \n",
    "    ############################\n",
    "    # Comienza Backpropagation #\n",
    "    ############################\n",
    "    # Inicializamos los acumuladores a ceros, con las dismensiones de los theta1 y theta2\n",
    "    delta1 = np.zeros((25,401))  # (25, 401)\n",
    "    delta2 = np.zeros((10,26))  # (10, 26)\n",
    "    \n",
    "    # Aunque podríamos vectorizarlo vamos a hacerlo para cada ejemplo\n",
    "    for t in range(m):\n",
    "        # Obtenemos lo que necesitamos del ejemplo (cálculos obtenidos en la propagación hacia adelante)\n",
    "        # Para usar las fórmulas tal y como aparecen, vamos a coger todos los vectores en forma columna (resahpe(-1,1))\n",
    "        a1t = a1[t,:].reshape(-1, 1)  # (401, 1)\n",
    "        z2t = z2[t,:].reshape(-1, 1)  # (25, 1)\n",
    "        a2t = a2[t,:].reshape(-1, 1)  # (26, 1)\n",
    "        ht = h[t,:].reshape(-1, 1)  # (10, 1)\n",
    "        yt = y[t,:].reshape(-1, 1)  # (10, 1)\n",
    "        \n",
    "        # Calculamos el error en la capa de salida (delta3)\n",
    "        d3t = ht-yt  # (10, 1)\n",
    "        \n",
    "        # Para calcular el error en la capa oculta (delta2) necesitamos añadir un uno al inicio del vector z2\n",
    "        z2t = np.insert(z2t, 0, values=np.ones(1), axis=0)  # (26, 1)\n",
    "        \n",
    "        # Calculamos d2 a partir del error de la capa de salida, los parámetros en theta2 y el gradiente de z2\n",
    "        d2t = np.multiply((theta2.T * d3t), sigmoid_gradient(z2t))  # (26, 1)\n",
    "\n",
    "        # Ya podemos calcular los gradientes a partir de los errores\n",
    "        # Para calcular el gradiente de los theta1, tenemos en cuenta el error en la capa oculta d2\n",
    "        delta1 = delta1 + d2t[1:] * a1t.T\n",
    "        delta2 = delta2 + d3t * a2t.T\n",
    "    \n",
    "    # Calculamos el gradiente finalmente dividiendo entre el número de ejemplos\n",
    "    delta1 = delta1/m\n",
    "    delta2 = delta2/m\n",
    "    \n",
    "    # Para pasar los gradientes a minimize los ponemos en un vector\n",
    "    grad = np.concatenate((np.ravel(delta1), np.ravel(delta2)))\n",
    "    \n",
    "    return J, grad"
   ]
  },
  {
   "cell_type": "markdown",
   "metadata": {},
   "source": [
    "Uno de los aspectos donde hay que tener más cuidado es en la multiplicación de matrices y en sus dimensiones. Además, debes tener en cuetna que la diferencia entre A * B y np.multiply(A, B) es que la primera realiza el producto de matrices y la segunda el producto elemento por elemento.\n",
    "\n",
    "Comprobemos que el resultado es el esperado."
   ]
  },
  {
   "cell_type": "code",
   "execution_count": 15,
   "metadata": {},
   "outputs": [
    {
     "name": "stdout",
     "output_type": "stream",
     "text": [
      "6.8223773858037955 (10285,)\n",
      "1 test passed.\n"
     ]
    }
   ],
   "source": [
    "J, grad = backprop(params, input_size, hidden_size, num_labels, X, y_onehot)\n",
    "print J, grad.shape\n",
    "Test.assertEquals(map(lambda x: round(x, 5), grad[np.where(np.abs(grad)>0.0001)[0][:20]]), \n",
    "                  [0.01986, 0.00014, 0.00018, 0.00011, 0.00023, 0.00033, 0.00037, 0.0004, 0.00046, 0.00057, \n",
    "                   0.00067, 0.00082, 0.00104, 0.00111, 0.00079, 0.00034, 0.00011, 0.00031, 0.00063, 0.00093], \n",
    "                  'Gradientes incorrectos')"
   ]
  },
  {
   "cell_type": "markdown",
   "metadata": {},
   "source": [
    "## Propagación hacia atrás - backpropagation - con regularización"
   ]
  },
  {
   "cell_type": "markdown",
   "metadata": {},
   "source": [
    "Ahora queremos añadir la regularización al cáculo del gradiente. En este caso partimos de la función de coste con regularización, realizamos el mismo proceso de backpropagation y solo debemos añadir en el último paso la siguiente modificación:\n",
    "\n",
    "Si $j\\neq0$ entonces\n",
    "$$D^{(l)}_{ij}= \\frac{\\Delta^{(l)}_{ij}}{m} + \\frac{\\lambda}{m}\\Theta_{ij}^{(l)}$$\n",
    "en otro caso\n",
    "$$D^{(l)}_{ij}= \\frac{\\Delta^{(l)}_{ij}}{m}$$\n",
    "\n",
    "Es decir, a las matrices $D^{(l)}_{ij}$ que ya hemos calculado en el paso anterior, en todas las columnas menos a la primera debemos sumarle el término de regularización correspondiente."
   ]
  },
  {
   "cell_type": "code",
   "execution_count": 16,
   "metadata": {},
   "outputs": [],
   "source": [
    "def backpropReg(params, input_size, hidden_size, num_labels, X, y, lambda_reg):\n",
    "    ###################################################################\n",
    "    # Copiar aquí el código de la función de coste con regularización #\n",
    "    ###################################################################\n",
    "    m = X.shape[0]\n",
    "    X = np.matrix(X)\n",
    "    y = np.matrix(y)\n",
    "    \n",
    "    # desempaquetamos las matrices con los parámetros para cada capa\n",
    "    theta1 = np.matrix(np.reshape(params[:hidden_size * (input_size + 1)], (hidden_size, (input_size + 1))))\n",
    "    theta2 = np.matrix(np.reshape(params[hidden_size * (input_size + 1):], (num_labels, (hidden_size + 1))))\n",
    "    \n",
    "    # Ejecutamos las propagación hacia adelante para obtener las salidas para cada ejemplo\n",
    "    a1, z2, a2, z3, h = forward_propagate(X,theta1,theta2)\n",
    "    \n",
    "    # Calculamos el coste\n",
    "    primer_termino = np.multiply(-y,np.log(h))\n",
    "    segundo_termino = np.multiply((1 - y), np.log(1 - h))\n",
    "    J = np.sum(primer_termino - segundo_termino) # el sum hace el doble sumatorio de clases, por columnas y de ejemplos por filas\n",
    "    \n",
    "    J = J / float(m)\n",
    "\n",
    "    # Añadimos el término de regularización\n",
    "    # La suma de los parámetros al cuadrado sin considerar la primera columna en ninguna de las dos matrices de parámetros\n",
    "    J += lambda_reg/(2*float(m)) * (np.sum(np.power(theta1[:,1:], 2)) + np.sum(np.power(theta2[:,1:], 2)))\n",
    "    \n",
    "     ############################\n",
    "    # Comienza Backpropagation #\n",
    "    ############################\n",
    "    delta1 = np.zeros((25,401))  # (25, 401)\n",
    "    delta2 = np.zeros((10,26))  # (10, 26)\n",
    "    \n",
    "    # Aunque podríamos vectorizarlo vamos a hacerlo para cada ejemplo\n",
    "    for t in range(m):\n",
    "        # Obtenemos lo que necesitamos del ejemplo (cálculos obtenidos en la propagación hacia adelante)\n",
    "        a1t = a1[t,:].reshape(-1, 1)  # (401, 1)\n",
    "        z2t = z2[t,:].reshape(-1, 1)  # (25, 1)\n",
    "        a2t = a2[t,:].reshape(-1, 1)  # (26, 1)\n",
    "        ht = h[t,:].reshape(-1, 1)  # (10, 1)\n",
    "        yt = y[t,:].reshape(-1, 1)  # (10, 1)\n",
    "        \n",
    "        # Calculamos el error en la capa de salida (delta3)\n",
    "        d3t = ht-yt  # (10, 1)\n",
    "        \n",
    "        # Para calcular el error en la capa oculta (delta2) necesitamos añadir un uno al inicio del vector z2\n",
    "        z2t = np.insert(z2t, 0, values=np.ones(1), axis=0)  # (26, 1)\n",
    "        \n",
    "        # Calculamos d2 a partir del error de la capa de salida, los parámetros en theta2 y el gradiente de z2\n",
    "        d2t = np.multiply((theta2.T * d3t), sigmoid_gradient(z2t))  # (26, 1)\n",
    "        \n",
    "        # Ya podemos calcular los gradientes a partir de los errores\n",
    "        # Para calcular el gradiente de los theta1, tenemos en cuenta el error en la capa oculta d2\n",
    "        delta1 = delta1 + d2t[1:] * a1t.T\n",
    "        delta2 = delta2 + d3t * a2t.T\n",
    "    \n",
    "    # Calculamos el gradiente finalmente dividiendo entre el número de ejemplos\n",
    "    delta1 = delta1/m\n",
    "    delta2 = delta2/m\n",
    "    \n",
    "    # Añadimos el término de regularización\n",
    "    delta1[:,1:] = delta1[:,1:] + (theta1[:,1:] * lambda_reg) / m\n",
    "    delta2[:,1:] = delta2[:,1:] + (theta2[:,1:] * lambda_reg) / m\n",
    "    \n",
    "    # Para pasar los gradientes a minimize los ponemos en un vector\n",
    "    grad = np.concatenate((np.ravel(delta1), np.ravel(delta2)))\n",
    "    \n",
    "    return J, grad"
   ]
  },
  {
   "cell_type": "code",
   "execution_count": 17,
   "metadata": {},
   "outputs": [
    {
     "name": "stdout",
     "output_type": "stream",
     "text": [
      "6.827724308940754 (10285,)\n",
      "1 test passed.\n"
     ]
    }
   ],
   "source": [
    "J, grad = backpropReg(params, input_size, hidden_size, num_labels, X, y_onehot, lambda_reg)\n",
    "print J, grad.shape\n",
    "Test.assertEquals(map(lambda x: round(x, 5), grad[np.where(np.abs(grad)>0.0001)[0][:20]]), \n",
    "                  [0.01986, 0.00015, 0.00016, 0.00013, 0.00022, 0.00033, 0.00036, 0.00039, 0.00048, 0.00057, \n",
    "                   0.00068, 0.00083, 0.00103, 0.00113, 0.00078, 0.00036, 0.00013, 0.00029, 0.00066, 0.00092], \n",
    "                  'Gradientes incorrectos')"
   ]
  },
  {
   "cell_type": "markdown",
   "metadata": {},
   "source": [
    "# Entrenamiento de la red y clasificación\n",
    "\n",
    "Ahora ya estamos listos para entrenar la red y usarla para hacer predicciones. Para entrenarla, utilizamos el método `minimize`de scipy, indicándole que backpropReg es la función que calcula el coste y los gradientes.\n"
   ]
  },
  {
   "cell_type": "code",
   "execution_count": 18,
   "metadata": {},
   "outputs": [
    {
     "data": {
      "text/plain": [
       "     fun: 0.33601932129029966\n",
       "     jac: array([ 5.40902861e-04,  2.07721287e-07,  6.00055158e-08, ...,\n",
       "       -3.62149660e-04, -6.78275516e-05, -2.03600402e-04])\n",
       " message: 'Max. number of function evaluations reached'\n",
       "    nfev: 250\n",
       "     nit: 19\n",
       "  status: 3\n",
       " success: False\n",
       "       x: array([-1.09094155e+00,  1.03860644e-03,  3.00027579e-04, ...,\n",
       "       -3.04428758e+00, -1.73988521e+00,  1.82968470e+00])"
      ]
     },
     "execution_count": 18,
     "metadata": {},
     "output_type": "execute_result"
    }
   ],
   "source": [
    "from scipy.optimize import minimize\n",
    "\n",
    "# minimize the objective function\n",
    "fmin = minimize(fun=backpropReg, x0=params, args=(input_size, hidden_size, num_labels, X, y_onehot, lambda_reg), \n",
    "                method='TNC', jac=True, options={'maxiter': 250})\n",
    "fmin"
   ]
  },
  {
   "cell_type": "markdown",
   "metadata": {},
   "source": [
    "Lógicamente hemos puesto un límite de iteraciones. Ahora, con el modelo obtenido vamos a tratar de realizar las predicciones para nuestros ejemplos de entrenamiento."
   ]
  },
  {
   "cell_type": "code",
   "execution_count": 19,
   "metadata": {},
   "outputs": [
    {
     "name": "stdout",
     "output_type": "stream",
     "text": [
      "(5000, 10)\n"
     ]
    },
    {
     "data": {
      "text/plain": [
       "matrix([[0],\n",
       "        [0],\n",
       "        [0],\n",
       "        ...,\n",
       "        [9],\n",
       "        [9],\n",
       "        [9]])"
      ]
     },
     "execution_count": 19,
     "metadata": {},
     "output_type": "execute_result"
    }
   ],
   "source": [
    "# X = np.matrix(X)\n",
    "# Desempaquetamos los parámetros obtenidos como resultado del entrenamiento\n",
    "theta1 = np.matrix(np.reshape(fmin.x[:hidden_size * (input_size + 1)], (hidden_size, (input_size + 1))))\n",
    "theta2 = np.matrix(np.reshape(fmin.x[hidden_size * (input_size + 1):], (num_labels, (hidden_size + 1))))\n",
    "\n",
    "# Utilizamos los parámetros desempaquetados con la propagación hacia adelante para obtener la predicción para nuestros ejemplos\n",
    "a1, z2, a2, z3, h = forward_propagate(X,theta1,theta2)\n",
    "print h.shape\n",
    "# Finalmente, para obtener la clase para cada ejemplo, buscamos de las diez salidas cual es la más alta\n",
    "# y usamos su índice como valor predicho (utilizar np.argmax con axis=1 que hace precísamente eso).\n",
    "y_pred = np.argmax(h,axis=1)\n",
    "y_pred"
   ]
  },
  {
   "cell_type": "markdown",
   "metadata": {},
   "source": [
    "Finalmente, podemos calcular la precisión del modelo en entrenamiento para ver cómo de bien está funcionando."
   ]
  },
  {
   "cell_type": "code",
   "execution_count": 20,
   "metadata": {},
   "outputs": [
    {
     "name": "stdout",
     "output_type": "stream",
     "text": [
      "Precisión en train: 99.34%\n",
      "1 test failed. Precisión incorrecta\n"
     ]
    }
   ],
   "source": [
    "from sklearn import metrics\n",
    "\n",
    "accTrain = metrics.accuracy_score(y_pred,y)\n",
    "\n",
    "print(\"Precisión en train: {}%\".format(accTrain*100))\n",
    "\n",
    "Test.assertEquals(round(accTrain,4), 0.99434, 'Precisión incorrecta')"
   ]
  },
  {
   "cell_type": "markdown",
   "metadata": {},
   "source": [
    "## Tarea opcional\n",
    "El error que obtenemos es muy bajo. ¿Pero qué ejemplos estamos fallando? ¿El ojo humano los diferenciaría? Obtén los ejemplos que se están fallando y píntalos como hemos hecho al principio junto con la clase real del ejemplo y la clase que le asigna la red. ¿Serías capaz de hacerlo mejor que la propia red neuronal?\n"
   ]
  },
  {
   "cell_type": "raw",
   "metadata": {},
   "source": [
    "print y_pred"
   ]
  },
  {
   "cell_type": "code",
   "execution_count": 21,
   "metadata": {},
   "outputs": [
    {
     "name": "stdout",
     "output_type": "stream",
     "text": [
      "[[0]\n",
      " [0]\n",
      " [0]\n",
      " ...\n",
      " [9]\n",
      " [9]\n",
      " [9]]\n"
     ]
    }
   ],
   "source": [
    "print y_pred"
   ]
  },
  {
   "cell_type": "code",
   "execution_count": null,
   "metadata": {
    "collapsed": true
   },
   "outputs": [],
   "source": []
  }
 ],
 "metadata": {
  "anaconda-cloud": {},
  "kernelspec": {
   "display_name": "Python 2",
   "language": "python",
   "name": "python2"
  },
  "language_info": {
   "codemirror_mode": {
    "name": "ipython",
    "version": 2
   },
   "file_extension": ".py",
   "mimetype": "text/x-python",
   "name": "python",
   "nbconvert_exporter": "python",
   "pygments_lexer": "ipython2",
   "version": "2.7.13"
  }
 },
 "nbformat": 4,
 "nbformat_minor": 1
}
