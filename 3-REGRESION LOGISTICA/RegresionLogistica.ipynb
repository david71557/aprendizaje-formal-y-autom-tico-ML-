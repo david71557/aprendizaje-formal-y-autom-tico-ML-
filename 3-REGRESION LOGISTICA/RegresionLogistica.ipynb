{
 "cells": [
  {
   "cell_type": "markdown",
   "metadata": {},
   "source": [
    "# Aprendizaje Formal\n",
    "\n",
    "## Práctica 4: Regresión Logística y Regularización\n",
    "\n",
    "### Índice de la práctica\n",
    "\n",
    "- [Lectura de datos](#Lectura-de-datos)\n",
    "- [Regresión logística](#Regresión-logística)\n",
    "- [Regresión logística con regularización](#Regresión-logística-con-regularización)"
   ]
  },
  {
   "cell_type": "markdown",
   "metadata": {},
   "source": [
    "Importamos todas las librerías que vamos a utilizar durante la segunda práctica."
   ]
  },
  {
   "cell_type": "code",
   "execution_count": 1,
   "metadata": {},
   "outputs": [],
   "source": [
    "import numpy as np\n",
    "import matplotlib.pyplot as plt\n",
    "\n",
    "from mpl_toolkits.mplot3d import Axes3D\n",
    "from test_helper import Test\n",
    "\n",
    "from scipy.optimize import minimize\n",
    "\n",
    "%matplotlib inline"
   ]
  },
  {
   "cell_type": "markdown",
   "metadata": {},
   "source": [
    "### Lectura de datos\n",
    "\n",
    "Definimos una función que lee un archivo que contiene los datos de entrenamiento. La función recibe como parámetro de entrada el nombre del fichero que contiene los datos de entrenamiento así como el símbolo utilizado para separar los valores de las variables del problema (delimitador). La función muestra las dimensiones del dataset así como los 5 primeros ejemplos del mismo.\n",
    "\n",
    "Debéis llamar a la función loadtxt de numpy con los parámetros apropiados."
   ]
  },
  {
   "cell_type": "code",
   "execution_count": 3,
   "metadata": {},
   "outputs": [],
   "source": [
    "def lecturaDatos(nombreFichero, simboloDelimitador):\n",
    "    datos = np.loadtxt(nombreFichero,delimiter=simboloDelimitador)\n",
    "    \n",
    "    print('Dimensiones de los datos: ',datos.shape)\n",
    "    print(datos[0:5,:])\n",
    "    return(datos)"
   ]
  },
  {
   "cell_type": "markdown",
   "metadata": {},
   "source": [
    "Definimos una función que muestre los datos de entrenamiento gráficamente. \n",
    "\n",
    "Esta función va a ser genérica para problemas de clasificación de dos clases por lo que\n",
    "* La clase negativa va a ser la que tenga asociada la etiqueta 0\n",
    "* La clase positiva va a ser la que tenga asociada la etiqueta 1\n",
    "\n",
    "Además asumimos que la variable de salida (clase) será el último valor en cada fila de `datos`.\n",
    "\n",
    "La función recibe como parámetros de entrada los datos, las etiquetas de los ejes x e y (dos variables de entrada) así como la etiqueta para los datos de la clase positiva y de la clase negativa (se muestran en la leyenda de la figura)."
   ]
  },
  {
   "cell_type": "code",
   "execution_count": 4,
   "metadata": {},
   "outputs": [],
   "source": [
    "def muestraGrafica(datos, etiqueta_ejeX, etiqueta_ejeY, etiqueta_Positiva, etiqueta_Negativa, axes=None):\n",
    "    # La variable claseNegativa debe ser un array de booleanos compuesto por tantos elementos como ejemplos\n",
    "        # Los ejemplos de la clase 0 deben tener True en su correspondiente posicion del array de booleanos y False en el resto\n",
    "    claseNegativa =(datos[:,-1]==0)\n",
    "    # La variable clasePositiva debe ser un array de booleanos compuesto por tantos elementos como ejemplos\n",
    "        # Los ejemplos de la clase 1 deben tener True en su correspondiente posicion del array de booleanos y False en el resto\n",
    "    clasePositiva = datos[:,-1]==1\n",
    "    \n",
    "    # Si no se pasa un manejador de una figura se crea una\n",
    "    if axes == None:\n",
    "        axes = plt.gca()\n",
    "    # Se muestra la nube de puntos: + negros para la clase 1 y circulos amarillos para la clase 0 \n",
    "    # Utiliza los vectores claseNegativa y clasePositiva como máscara para pintar solo los datos correspondientes a la clase en cuestión\n",
    "        # Utiliza marker= para establecer el marcador\n",
    "        # Utiliza c= para establecer el color\n",
    "        # Utiliza label= para establecer la etiqueta de los datos\n",
    "    axes.scatter(datos[clasePositiva,0],datos[clasePositiva,1],marker='+' ,c='black',label=etiqueta_Positiva)\n",
    "    axes.scatter(datos[claseNegativa,0],datos[claseNegativa,1],marker='o',c='y',label=etiqueta_Negativa)\n",
    "    # Establecemos las etiquetas de los ejes\n",
    "    axes.set_xlabel(etiqueta_ejeX)\n",
    "    axes.set_ylabel(etiqueta_ejeY)\n",
    "    # Añadimos la leyenda\n",
    "    axes.legend(frameon= True, fancybox = True);"
   ]
  },
  {
   "cell_type": "markdown",
   "metadata": {},
   "source": [
    "### Regresión logística"
   ]
  },
  {
   "cell_type": "markdown",
   "metadata": {},
   "source": [
    "Lee datos utilizando la función definida anteriormente. El nombre del fichero a leer es ex2data1.txt y el delimitador de los valores de las variables es la coma (,).\n",
    "\n",
    "Los datos contenidos en este fichero corresponden a un problema en el que se debe **predecir si un estudiante es admitido en una universidad o no**. El acceso a la universidad viene determinado por la nota obtenida por los estudiantes en dos exámenes realizados previamente. El archivo contiene el histórico de las notas obtenidas en ambos exámenes (variables de entrada) para 100 alumnos así como si han ingresado en la universidad o no (variable de salida)."
   ]
  },
  {
   "cell_type": "code",
   "execution_count": 5,
   "metadata": {},
   "outputs": [
    {
     "name": "stdout",
     "output_type": "stream",
     "text": [
      "('Dimensiones de los datos: ', (100, 3))\n",
      "[[34.62365962 78.02469282  0.        ]\n",
      " [30.28671077 43.89499752  0.        ]\n",
      " [35.84740877 72.90219803  0.        ]\n",
      " [60.18259939 86.3085521   1.        ]\n",
      " [79.03273605 75.34437644  1.        ]]\n"
     ]
    }
   ],
   "source": [
    "datos = lecturaDatos('ex2data1.txt',',')"
   ]
  },
  {
   "cell_type": "markdown",
   "metadata": {},
   "source": [
    "A continuación se crean los datos de entrada ($X$) y de salida ($y$) para poder realizar el aprendizaje de los parámetros de la regresión logística ($\\theta$). Recordar que la primera columna de los datos de entrada debe estar compuesta por unos para multiplicar al término independiente de la regresión logística. Por tanto, la variable $X$ estará compuesta por tantas columnas como variables de entrada más una (la de unos). En este caso serán 3 columnas. La variable $y$ debe contener la información de si los alumnos han sido admitidos o no."
   ]
  },
  {
   "cell_type": "code",
   "execution_count": 7,
   "metadata": {},
   "outputs": [
    {
     "name": "stdout",
     "output_type": "stream",
     "text": [
      "1 test passed.\n",
      "1 test passed.\n"
     ]
    }
   ],
   "source": [
    "# Debéis crear una columna de unos y concaternala con la primera columna de datos\n",
    "unos=np.ones((100,1))\n",
    "\n",
    "# Utiliza la función hstack para concatenar una matriz de m x 1 de ceros y los datos en data menos su última columna\n",
    "X =np.hstack((unos,datos[:,:-1]))\n",
    "# y debe ser un vector columna, es decir una matriz de m x 1. \n",
    "# Para ello, debes tomar la segunda última de data y luego haz un reshape(-1, 1). El -1 le indica a numpy que debe estimar el tamaño automáticamente\n",
    "y =datos[:,2].reshape(-1,1)\n",
    "\n",
    "Test.assertEquals(list(X[0,:]), [1.0, 34.623659624516968, 78.0246928153624], 'X no está bien formada')\n",
    "Test.assertEquals(list(y[:5, 0]), [0.0, 0.0, 0.0, 1.0, 1.0], 'y no está bien formada')"
   ]
  },
  {
   "cell_type": "markdown",
   "metadata": {},
   "source": [
    "Realizar la llamada a la función que muestra los ejemplos utilizando los datos recién leídos y las etiquetas apropiadas. Los alumnos admitidos se codifican con 1 y los no admitidos con 0.\n",
    "\n",
    "La imagen que debes obtener debe ser similar a esta:\n",
    "![Ejemplo](img7.png \"Ejemplo\")"
   ]
  },
  {
   "cell_type": "code",
   "execution_count": 8,
   "metadata": {},
   "outputs": [
    {
     "data": {
      "image/png": "[encoded data removed]",
      "text/plain": [
       "<Figure size 432x288 with 1 Axes>"
      ]
     },
     "metadata": {
      "needs_background": "light"
     },
     "output_type": "display_data"
    }
   ],
   "source": [
    "muestraGrafica(datos,'Nota en el examen 1','Nota en el examen 2','Admitido','No admitido')"
   ]
  },
  {
   "cell_type": "markdown",
   "metadata": {},
   "source": [
    "#### Modelo de regresión logística\n",
    "Vamos a recordar el modelo de la regresión logística. Es el mismo que para la regresión lineal pero aplicando una función sigmoide sobre el resultado para conseguir una función convexa y, de esta forma, poder aplicar el descenso por gradiente para minimizar la función de coste.\n",
    "\n",
    "#### Hipótesis de la regresión logística\n",
    "#### $$ h_{\\theta}(x) = g(\\theta^{T}x)$$\n",
    "#### La función $g$ es la función sigmoide definida como\n",
    "#### $$ g(z)=\\frac{1}{1+e^{−z}} $$"
   ]
  },
  {
   "cell_type": "markdown",
   "metadata": {},
   "source": [
    "Definir la función que aplica la función sigmoide, $g(z)$, sobre un dato $z$. Este dato puede ser un array de valores.\n",
    "\n",
    "La función exp de numpy (pasando un valor como parámetro de entrada) sirve para calular $e^{valor}$"
   ]
  },
  {
   "cell_type": "code",
   "execution_count": 9,
   "metadata": {},
   "outputs": [],
   "source": [
    "def sigmoide(z):\n",
    "    return(1.0/(1.0+np.exp(-z)))"
   ]
  },
  {
   "cell_type": "markdown",
   "metadata": {},
   "source": [
    "Comprobar si la función sigmoide funciona correctamente, recordar que:\n",
    "* Para el valor 0.0 el resultado debe ser 0.5\n",
    "* Para valores grandes el resultado debe ser muy próximo a 1.0\n",
    "* Para valores pequeños el resultado debe ser muy próximo a 0.0\n",
    "\n",
    "Ejericicio:\n",
    "* Comprobar el resultado para el valor de entrada 0.0\n",
    "* Comprobar el resultado para un array de numpy compuesto por los valores -5.0 y 5.0"
   ]
  },
  {
   "cell_type": "code",
   "execution_count": 10,
   "metadata": {},
   "outputs": [
    {
     "name": "stdout",
     "output_type": "stream",
     "text": [
      "0.5\n",
      "1 test passed.\n",
      "[0.00669285 0.99330715]\n",
      "1 test passed.\n"
     ]
    }
   ],
   "source": [
    "resultado1 = sigmoide(0.0)\n",
    "print resultado1\n",
    "Test.assertEquals(resultado1, 0.5, 'Valor incorrecto de la función sigmoide')\n",
    "resultado2 = sigmoide(np.array([-5.0,5.0]))\n",
    "print resultado2\n",
    "Test.assertEquals(map(lambda ind: round(ind, 5), list(resultado2.ravel())), [0.00669,  0.99331], 'Valores incorrectos de la función sigmoide')"
   ]
  },
  {
   "cell_type": "markdown",
   "metadata": {
    "collapsed": true
   },
   "source": [
    "##### SciPy\n",
    "La librería Scipy contiene una función que realiza exáctamente este mismo cálculo. Se puede consultar su información la siguiente URL:<BR>\n",
    "http://docs.scipy.org/doc/scipy/reference/generated/scipy.special.expit.html#scipy.special.expit\n",
    "\n",
    "Se podría utilizar en lugar de la función sigmoide que acabamos de definir."
   ]
  },
  {
   "cell_type": "markdown",
   "metadata": {},
   "source": [
    "#### Función de coste\n",
    "A continuación vamos a implementar la función de coste. Vamos a recordar su expresión normal y vectorizada.\n",
    "\n",
    "#### $$ J(\\theta) = -\\frac{1}{m}\\sum_{i=1}^{m}\\big[y^{(i)}\\, log\\,( h_\\theta\\,(x^{(i)}))+(1-y^{(i)})\\,log\\,(1-h_\\theta(x^{(i)}))\\big]$$\n",
    "#### Función de coste vectorizada\n",
    "Obtenemos el vector de salidas (probabilidad de que cada ejemplo pertenezca a la clase 1)\n",
    "\n",
    "$$ h_\\theta(X) = g(X\\cdot \\theta) $$\n",
    "\n",
    "Utilizamos el vector columna anterior para calcular el coste total directamente\n",
    "\n",
    "#### $$ J(\\theta) = -\\frac{1}{m}\\big((\\,log\\,(h_\\theta(X))^Ty+(\\,log\\,(1-h_\\theta(X))^T(1-y)\\big)$$"
   ]
  },
  {
   "cell_type": "markdown",
   "metadata": {},
   "source": [
    "Definir la función de coste vectorizada mostrada anteriormente $J(\\theta)$. Esta función recibe como parámetros de entrada los valores de los parámetros $\\theta$ (en forma de vector columna) sobre los que calcular el coste con respecto a los datos de entrada ($X$) y sus correspondientes salidas ($y$)."
   ]
  },
  {
   "cell_type": "code",
   "execution_count": 12,
   "metadata": {},
   "outputs": [],
   "source": [
    "def funcionCoste(theta, X, y):\n",
    "    m = y.size\n",
    "    J=0\n",
    "    h=sigmoide(X.dot(theta))\n",
    "    J=-(np.log(h.T).dot(y)+ np.log(1-h.T).dot(1-y))/m\n",
    "    # Controla que si el coste es NaN la salida sea np.inf. Puede darse debido a los logaritmos\n",
    "    return(J)"
   ]
  },
  {
   "cell_type": "markdown",
   "metadata": {},
   "source": [
    "Recordamos como son las derivadas parciales para poder definir la función que aplica el descenso por gradiente y de esta forma aprender los valores de los parámetros de la regresión logística ($\\theta$)\n",
    "\n",
    "#### Derivada parcial\n",
    "\n",
    "#### $$ \\frac{\\delta J(\\theta)}{\\delta\\theta_{j}} = \\frac{1}{m}\\sum_{i=1}^{m} ( h_\\theta (x^{(i)})-y^{(i)})\\cdot x^{(i)}_{j} $$ \n",
    "#### Derivada parcial vectorizada\n",
    "#### $$ \\frac{\\delta J(\\theta)}{\\delta\\theta_{j}} = \\frac{1}{m} X^T(h_\\theta(X)-y)$$\n",
    "donde $$ h_\\theta(X) = g(X\\cdot \\theta) $$\n"
   ]
  },
  {
   "cell_type": "markdown",
   "metadata": {},
   "source": [
    "Definir la función que realiza la derivada parcial vectorizada mostrada previamente. Esta función recibe como parámetros de entrada los valores iniciales de los parámetros de la regresión logística ($\\theta$) así como los valores de las variables de entrada del problema ($X$) y sus correspondientes salidas ($y$).\n",
    "\n",
    "En la variable $h$ tenemos el resultado de $g(X\\cdot \\theta)$\n",
    "\n",
    "Ejercicio: \n",
    "* Implementa la ecuación de la derivada parcial $\\frac{1}{m} X^T(h_\\theta(X)-y)$\n",
    "\n",
    "** NOTA: Esta función la vamos a usar en una función minimize que realizará el descenso por gradiente. Dicha función en vez de pasar theta como una matriz de (3, 1), nos pasará una de (3, ) por lo que debes hacer un reshape antes de realizar el producto entre X y theta**"
   ]
  },
  {
   "cell_type": "code",
   "execution_count": 19,
   "metadata": {},
   "outputs": [],
   "source": [
    "def derivadaParcial(theta, X, y):\n",
    "    m = y.size\n",
    "    theta=theta.reshape(-1,1)\n",
    "    h=sigmoide(X.dot(theta))\n",
    "    \n",
    "    derParcial =((X.T).dot(h-y))/m\n",
    "    return(derParcial.flatten()) # La salida debe ser un vector"
   ]
  },
  {
   "cell_type": "markdown",
   "metadata": {},
   "source": [
    "Ejercicio:\n",
    "* Crear los valores iniciales de los parámetros de la regresión logística como un vector columna de ceros. \n",
    "* Comprobar el coste del modelo con los datos leídos utilizando estos valores iniciales de los parámetros $\\theta$.\n",
    "* Obtener los valores de la derivada parcial de los parámetros de la regresión logística llamando a la función que la realiza utilizando los datos de entrenamiento leídos anteriormente."
   ]
  },
  {
   "cell_type": "markdown",
   "metadata": {},
   "source": [
    "### Creación de la columna de ceros\n",
    "thetaInicial = np.zeros((3,1))#<RELLENAR>\n",
    "# Llamada a la funcion de calculo del coste\n",
    "costeInicial = funcionCoste(thetaInicial,X,y)#<RELLENAR>\n",
    "# Llamada a la funcion que realiza la derivada parcial\n",
    "derParcial = derivadaParcial(thetaInicial,X,y)#<RELLENAR>\n",
    "\n",
    "\n",
    "print('Coste del modelo inicial: \\n', costeInicial)\n",
    "Test.assertEquals(round(costeInicial, 5), 0.69315, 'Valor de coste incorrecto')\n",
    "print('Derivada parcial: \\n', derParcial)\n",
    "Test.assertEquals(map(lambda ind: round(ind, 5), list(derParcial.ravel())), [-0.1,  -12.00922, -11.26284], 'Valores de la derivada parcial incorrectos')"
   ]
  },
  {
   "cell_type": "markdown",
   "metadata": {},
   "source": [
    "#### Optimización de la función de coste\n",
    "\n",
    "Para realizar el aprendizaje de los parámetros de la regresión logística vamos a utilizar la función `minimize` importada al comienzo de la práctica. Esta función realiza el proceso de descenso por gradiente y recibe como parámetros de entrada:\n",
    "* La función que calcula el coste del modelo\n",
    "* Los valores iniciales de los parámetros del modelo (variable thetaInicial)\n",
    "* Los valores de los ejemplos de entrenamiento (tanto de las variables de entrada ($X$) como de salida ($y$)) en forma de tupla (parámetro args)\n",
    "* La función que realiza las derivadas parciales (parámetro jac)\n",
    "* El número máximo de iteraciones del descenso por gradiente (establecido a 400)\n",
    "\n",
    "Puedes ver los detalles sobre esta función aquí: https://docs.scipy.org/doc/scipy-0.18.1/reference/generated/scipy.optimize.minimize.html\n",
    "\n",
    "Los parámetros del modelo aprendidos ($\\theta$) se devuelven en el campo x de la variable utilizada para recoger la salida de la función minimize. En este caso se pueden consultar imprimiedo res.x. Este vector está en formato de fila, pásalo a formato columna para poder seguir usándo la variable thetas como hasta ahora."
   ]
  },
  {
   "cell_type": "code",
   "execution_count": 23,
   "metadata": {},
   "outputs": [
    {
     "name": "stdout",
     "output_type": "stream",
     "text": [
      "('Coste del modelo inicial: \\n', array([[0.69314718]]))\n",
      "1 test passed.\n",
      "('Derivada parcial: \\n', array([ -0.1       , -12.00921659, -11.26284221]))\n",
      "1 test passed.\n",
      "thetas\n",
      "[-25.16133284   0.2062317    0.2014716 ]\n",
      "1 test passed.\n"
     ]
    },
    {
     "name": "stderr",
     "output_type": "stream",
     "text": [
      "C:\\Python27\\lib\\site-packages\\ipykernel_launcher.py:5: RuntimeWarning: divide by zero encountered in log\n",
      "  \"\"\"\n"
     ]
    }
   ],
   "source": [
    "#Creación de la columna de ceros\n",
    "thetaInicial = np.zeros((3,1))\n",
    "\n",
    "#Llamada a la funcion de calculo del coste\n",
    "costeInicial = funcionCoste(thetaInicial,X,y)\n",
    "\n",
    "#Llamada a la funcion que realiza la derivada parcial\n",
    "derParcial = derivadaParcial(thetaInicial,X,y)\n",
    "\n",
    "print('Coste del modelo inicial: \\n', costeInicial) \n",
    "Test.assertEquals(round(costeInicial, 5), 0.69315, 'Valor de coste incorrecto') \n",
    "print('Derivada parcial: \\n', derParcial) \n",
    "Test.assertEquals(map(lambda ind: round(ind, 5), list(derParcial.ravel())), [-0.1, -12.00922, -11.26284], 'Valores de la derivada parcial incorrectos')\n",
    "\n",
    "thetaInicial = np.zeros((3,1))\n",
    "# Los primeros dos parámetros son la función de coste y los valores de theta iniciales (en formato fila). El resto déjalos como están\n",
    "res = minimize(funcionCoste, thetaInicial, args=(X,y), jac=derivadaParcial, options={'maxiter':1600})\n",
    "# Obtén los valores de thetas a partir de res.x y pásalos a formato columna\n",
    "thetas =res.x.reshape(-1,1) \n",
    "print \"thetas\"\n",
    "print thetas.ravel()\n",
    "Test.assertEquals(map(lambda ind: round(ind, 5), list(thetas.ravel())), [-25.16133,  0.20623, 0.20147], 'Valores de theta incorrectos')"
   ]
  },
  {
   "cell_type": "markdown",
   "metadata": {},
   "source": [
    "#### Predicción de nuevos datos\n",
    "\n",
    "Para predecir la clase de nuevos estudiantes se debe definir una función que recibe los valores de los parámetros del modelo ($\\theta$), una lista de lista con los valores de las variables de entrada de todos los alumnos ($X$) y un umbral para decidir si se predice la clase admitido o no admitido. La función sigmoide definida anteriormente devuelve un valor en el intervalo $[0, 1]$ que debemos transformar a $0$ o $1$. Para realizar este proceso utilizamos el umbral de tal forma que si el valor devuelto por la función sigmoide es menor que el umbral se obtiene False (0) y en otro caso True (1). Por tanto, este umbral por defecto debe ser $0.5$ para que ambas clases tengan la misma probabilidad de ser predichas.\n",
    "\n",
    "Ejercicio:\n",
    "* Calcular la probabilidad de admisión de todos los alumnos (función sigmoide pasando el resultado de la ecuación del modelo $X\\cdot \\theta$). \n",
    "    * Se asigna a la variable `p`.\n",
    "* Comparar cada valor devuelto por la función sigomide (almacenado en `p`) con el umbral para obtener si son admitidos (mayor o igual que el umbral: True) o no (menor que el umbral: False). \n",
    "    * La variable `p` se actualiza con este resultado."
   ]
  },
  {
   "cell_type": "code",
   "execution_count": 24,
   "metadata": {},
   "outputs": [],
   "source": [
    "def prediccion(theta, X, umbral=0.5):\n",
    "    p = sigmoide(X.dot(theta))\n",
    "    f,c=p.shape\n",
    "    for i in range(f):\n",
    "        if p[i,0]>umbral:\n",
    "            p[i,0]=True\n",
    "        else:\n",
    "            p[i,0]=False\n",
    "    # La función astype la utilizamos para convertir booleanos (False (0), True (1)) en números enteros {0, 1}.\n",
    "    return(p.astype('int'))"
   ]
  },
  {
   "cell_type": "markdown",
   "metadata": {},
   "source": [
    "Calcular la probabilidad de admisión de un estudiante que ha obtenido un 45 en el primer examen y un 85 en el segundo. Para ello se debe llamar a la función sigmoide que nos devuelve la probabilidad de que un estudiante sea admitido (número entre 0 y 1 como se ha mencionado en el apartado previo).\n",
    "\n",
    "Ejercicio:\n",
    "* Definir el array de numpy con los datos del alumno para que pueda ser predicho por el modelo (acordaros de incluir el 1).\n",
    "* Utilizar la función sigmoide para clasificar el alumno junto con los parámetros del modelo($\\theta$)."
   ]
  },
  {
   "cell_type": "code",
   "execution_count": 25,
   "metadata": {},
   "outputs": [
    {
     "name": "stdout",
     "output_type": "stream",
     "text": [
      "[0.77629072]\n",
      "1 test passed.\n"
     ]
    }
   ],
   "source": [
    "# Predecir utilizando los theta obtenidos tras aplicar la función minimize (thetas)\n",
    "\n",
    "alumno =np.array([1.0, 45.0 ,85.0]) \n",
    "probabilidad =sigmoide(alumno.dot(thetas)) \n",
    "print probabilidad\n",
    "Test.assertEquals(round(probabilidad, 5), 0.77629, 'Valor de probabilidad incorrecto')"
   ]
  },
  {
   "cell_type": "markdown",
   "metadata": {},
   "source": [
    "Ejercicio:\n",
    "* Realizar la predicción de todos los alumnos almacenados en el fichero que contiene el histórico (el leído al comienzo de la práctica). \n",
    "    * Llamar a la función predicción definida anteriormente pasando los valores de los parámetros del modelo ($\\theta$) y los datos a predecir.\n",
    "* Obtener el porcentaje de acierto aplicando los siguientes pasos:\n",
    "    * Obtener un array de booleanos comprobando si los alumnos se predicen correctamente o no (es decir, comparar `p` con `y`.\n",
    "    * Obtener el número de alumnos correctamente predichos, sumar el array anterior (con la función sum se suman los True ya que son unos)\n",
    "    * Obtener el porcentaje de alumnos correctamente predichos divididiendo la suma anterior entre el número total de alumnos (p.size) y multiplicado por 100. \n",
    "        * Este resultado se almacena en la variable accuracy."
   ]
  },
  {
   "cell_type": "code",
   "execution_count": 26,
   "metadata": {},
   "outputs": [
    {
     "name": "stdout",
     "output_type": "stream",
     "text": [
      "Precisión en entrenamiento 89.0%\n",
      "1 test passed.\n"
     ]
    }
   ],
   "source": [
    "p = prediccion(thetas,X)\n",
    "aciertos=np.equal(p,y)\n",
    "elementos=p.size\n",
    "accuracy =(np.sum(aciertos)/float(elementos))*100.0\n",
    "print('Precisión en entrenamiento {}%'.format(accuracy))\n",
    "Test.assertEquals(round(accuracy, 1), 89.0, 'Valor de accuracy incorrecto')"
   ]
  },
  {
   "cell_type": "markdown",
   "metadata": {},
   "source": [
    "#### Frontera de decisión\n",
    "\n",
    "Ahora vamos a mostrar la frontera de decisión que genera el modelo de regresión logística que acabamos de aprender. Recordar que la frontera de decisión se genera en el punto en el que las probabilidades del ejemplo a todas las clases son iguales y, por tanto, no se sabe determinar la clase. A partir de ese punto la clase cambia entre las que estén afectadas por la frontera (generalmente dos).\n",
    "\n",
    "**NOTA:**\n",
    "* Fijaros en como se obtiene la frontera de decisión (línea azul): se aplica la sigmoide (probabilidad de cada alumno) y se muestran solamente los alumnos cuya probabilidad sea 0.5."
   ]
  },
  {
   "cell_type": "code",
   "execution_count": 27,
   "metadata": {},
   "outputs": [
    {
     "data": {
      "image/png": "[encoded data removed]",
      "text/plain": [
       "<Figure size 432x288 with 1 Axes>"
      ]
     },
     "metadata": {
      "needs_background": "light"
     },
     "output_type": "display_data"
    }
   ],
   "source": [
    "# Mostramos el punto que hemos clasificado anteriormente como un triángulo rojo\n",
    "plt.scatter(45, 85, s=60, c='r', marker='v', label='(45, 85)')\n",
    "muestraGrafica(datos, 'Nota en el examen 1', 'Nota en el examen 2', 'Admitido', 'No admitido')\n",
    "# Calculamos el mínimo y máximo de cada variable de entrada\n",
    "x1_min, x1_max = X[:,1].min(), X[:,1].max(),\n",
    "x2_min, x2_max = X[:,2].min(), X[:,2].max(),\n",
    "# Obtenemos todas las combinaciones de valores de las dos variables (comprendidos entre el mínimo y el máximo y espaciados linealmente)\n",
    "xx1, xx2 = np.meshgrid(np.linspace(x1_min, x1_max), np.linspace(x2_min, x2_max))\n",
    "# Aplicamos la función sigmoide para obtener la probabilidad de admisión de todas las combinaciones anteriores\n",
    "h = sigmoide(np.hstack((np.ones((xx1.size, 1)), xx1.reshape(-1, 1), xx2.reshape(-1, 1))).dot(thetas))\n",
    "h = h.reshape(xx1.shape)\n",
    "\n",
    "# Mostramos con una línea azul todos las combinaciones cuya probabilidad de admisión sea 0.5 (equiprobable: no sabemos elegir)\n",
    "plt.contour(xx1, xx2, h, [0.5], linewidths=1, colors='b');"
   ]
  },
  {
   "cell_type": "markdown",
   "metadata": {},
   "source": [
    "### Regresión logísticas con Scikit-learn\n",
    "Al igual que con la regresión lineal, el paquete scikit-learn también tiene el método de la regresión logística implementado. Lo puedes consultar en http://scikit-learn.org/stable/modules/generated/sklearn.linear_model.LogisticRegression.html#sklearn.linear_model.LogisticRegression\n",
    "\n",
    "Vamos a comprobar si el resultado obtenido es similar. Para ello, vamos a volver a pintar la gráfica anterior pero entrenaremos el modelo con la clase LogisticRegression de scikit-learn. La regresión logística de de sklearn está implementada con la regularización, pero eso lo veremos en la segunda parte de la práctica. \n",
    " \n",
    "`LogisticRegression` requiere de los siguientes parámetros:\n",
    "* penalty: Elegir 'l2' (es el tipo de regularización a realizar)\n",
    "* C: Es el valor que corresponde a lambda, pero en este caso $ C = 1/\\lambda$. Como no queremos regularizar, este valor debe ser un valor muy alto, por ejemplo $10.0e50$\n",
    "* max_iter: Número máximo de iteraciones para el descenso por gradiente (400)\n",
    "* solver: Este es el método a utilizar para buscar el mínimo. Puede ser cualquiera de entre {‘newton-cg’, ‘lbfgs’, ‘liblinear’, ‘sag’}. Utilizar newton-cg para esta prueba\n",
    "\n",
    "Una vez creado el objeto de `LogisticRegression` debes utilizar el método `fit`. Como entrada toma la matriz $X$ (**CUIDADO** sin coger la columna de unos) y el vector $y$ (ponerlo en modo vector usando ravel).\n",
    "\n",
    "Con dicha operación logramos ajustar los parámetros y ya podemos usar el objeto para predecir nuevos valores (los coeficientes obtenidos están en coef$\\_$ y intercept$\\_$, pero es más sencillo utilizar la función `predict_proba` para obtener las probabilidades de salida para cada ejemplo. Esta función recibe la matriz $X$ de entrada (sin la columna de unos) y devuelve una matriz de $m \\times 2$. De esta matriz solo nos interesa la segunda columna que es la que tiene la probabilidad de que un ejemplo pertenezca a la clase 1. "
   ]
  },
  {
   "cell_type": "markdown",
   "metadata": {},
   "source": [
    "### Regresión logística con regularización\n",
    "\n",
    "En la segunda parte de la práctica vamos a trabajar con un nuevo problema de clasificación. En este caso se trata de predecir si un microchip pasa los tests de calidad o no. Para ello, a cada microchip se le realizan dos tests, cuyos resultados se almacenan en un archivo que contiene los datos históricos de 118 microchips. Por tanto, para cada microchip se tienen dos variables de entrada (los resultados de los dos tests) y la variable de salida que tiene dos valores: pasa el test de calidad, son aceptados, (1) o no, son rechazados, (0). Los datos de este problema están almacenados en el fichero llamado ex2data2.txt cuyo delimitador también es la coma (,).\n",
    "\n",
    "Realiza la llamada a la función que realiza la lectura de los ficheros y almacena los datos."
   ]
  },
  {
   "cell_type": "code",
   "execution_count": 28,
   "metadata": {},
   "outputs": [
    {
     "data": {
      "image/png": "[encoded data removed]",
      "text/plain": [
       "<Figure size 432x288 with 1 Axes>"
      ]
     },
     "metadata": {
      "needs_background": "light"
     },
     "output_type": "display_data"
    }
   ],
   "source": [
    "# Se importa de la libreria scikit-learn de python (sklearn) el paquete correspondiente a la regresión lineal\n",
    "from sklearn.linear_model import LogisticRegression\n",
    "\n",
    "# Calculamos el mínimo y máximo de cada variable de entrada\n",
    "x1_min, x1_max = X[:,1].min(), X[:,1].max(),\n",
    "x2_min, x2_max = X[:,2].min(), X[:,2].max(),\n",
    "\n",
    "\n",
    "# Obtenemos todas las combinaciones de valores de las d\n",
    "# Obtenemos todas las combinaciones de valores de las dos variables (comprendidos entre el mínimo y el máximo y espaciados linealmente)\n",
    "xx1, xx2 = np.meshgrid(np.linspace(x1_min, x1_max), np.linspace(x2_min, x2_max))\n",
    "\n",
    "#solver : {‘newton-cg’, ‘lbfgs’, ‘liblinear’, ‘sag’}\n",
    "# Se incializa el modelo llamando al constructor de la regresión lineal: todos los parámetros se asignan a sus valores por defecto\n",
    "LogReg = LogisticRegression(penalty='l2',C=1.0/(10.0*np.exp(1)*50),solver='newton-cg',max_iter=400)\n",
    "# Se entrena el modelo (aprendizaje) utilizando la variable de entrada sin los unos X[:,1] y la variable de salida (y)\n",
    "# La función ravel devuelve una lista (si la entrada es una lista de listas coge todos los elementos y los almacena en la lista devuelta)\n",
    "LogReg.fit(X[:,1:],y.ravel())\n",
    "# Se evalúan los valores creados anteriormente para comparar ambos modelos aprendidos\n",
    "h = LogReg.predict_proba(np.hstack((xx1.reshape(-1, 1), xx2.reshape(-1, 1))))[:,1]\n",
    "\n",
    "h = h.reshape(xx1.shape)\n",
    "\n",
    "\n",
    " #Mostramos el punto que hemos clasificado anteriormente como un triángulo rojo\n",
    "plt.scatter(45, 85, s=60, c='r', marker='v', label='(45, 85)')\n",
    "muestraGrafica(datos, 'Nota en el examen 1', 'Nota en el examen 2', 'Admitido', 'No admitido')\n",
    "# Mostramos con una línea azul todos las combinaciones cuya probabilidad de admisión sea 0.5 (equiprobable: no sabemos elegir)\n",
    "plt.contour(xx1, xx2, h, [0.5], linewidths=1, colors='b');"
   ]
  },
  {
   "cell_type": "code",
   "execution_count": 29,
   "metadata": {},
   "outputs": [
    {
     "name": "stdout",
     "output_type": "stream",
     "text": [
      "('Dimensiones de los datos: ', (118, 3))\n",
      "[[ 0.051267  0.69956   1.      ]\n",
      " [-0.092742  0.68494   1.      ]\n",
      " [-0.21371   0.69225   1.      ]\n",
      " [-0.375     0.50219   1.      ]\n",
      " [-0.51325   0.46564   1.      ]]\n"
     ]
    }
   ],
   "source": [
    "data2 =lecturaDatos('ex2data2.txt',',') "
   ]
  },
  {
   "cell_type": "markdown",
   "metadata": {},
   "source": [
    "Crea las variables de entrada ($X$) y de salida ($y$).\n",
    "\n",
    "En este caso no añadas la columna de unos a $X$ ya que vamos a realizar alguna que otra transformación antes."
   ]
  },
  {
   "cell_type": "code",
   "execution_count": 30,
   "metadata": {},
   "outputs": [
    {
     "name": "stdout",
     "output_type": "stream",
     "text": [
      "(118, 2)\n",
      "1 test passed.\n",
      "1 test passed.\n"
     ]
    }
   ],
   "source": [
    "y =  data2[:,-1].reshape(-1,1)\n",
    "X =  data2[:,:2]\n",
    "print X.shape\n",
    "\n",
    "Test.assertEquals(list(X[0,:]), [0.051267, 0.69955999999999996], 'X no está bien formada')\n",
    "Test.assertEquals(list(y[:5, 0]), [1.0, 1.0, 1.0, 1.0, 1.0], 'y no está bien formada')"
   ]
  },
  {
   "cell_type": "markdown",
   "metadata": {},
   "source": [
    "Llama a la función que muestra la gráfica con los ejemplos del histórico de microchips y nombra correctamente los ejes y lo títulos de la leyenda. La clase positiva (1) son los microchips aceptados y la clase negativa (0) los rechazados."
   ]
  },
  {
   "cell_type": "code",
   "execution_count": 31,
   "metadata": {},
   "outputs": [
    {
     "data": {
      "image/png": "[encoded data removed]",
      "text/plain": [
       "<Figure size 432x288 with 1 Axes>"
      ]
     },
     "metadata": {
      "needs_background": "light"
     },
     "output_type": "display_data"
    }
   ],
   "source": [
    "muestraGrafica(data2,'Test microchip 1','Test microchip 2','Microchips aceptados','Microchips rechazados')"
   ]
  },
  {
   "cell_type": "markdown",
   "metadata": {},
   "source": [
    "Parece evidente que en este caso los ejemplos no son linealmente separables y vamos a tener que crear variables polinómicas."
   ]
  },
  {
   "cell_type": "markdown",
   "metadata": {},
   "source": [
    "#### Polinomios\n",
    "\n",
    "Como podemos ver en la gráfica anterior los ejemplos no son linealmente separables. Por este motivo, en primer lugar, vamos a crear nuevas variables del modelo que nos permitan obtener fronteras de decisión no lineales. Para ello vamos a utilizar la función `PolynomialFeatures` que nos provee scikit-learn: http://scikit-learn.org/stable/modules/generated/sklearn.preprocessing.PolynomialFeatures.html\n",
    "\n",
    "Sigue los siguientes pasos:\n",
    "* Aplicar la función PolynomialFeatures pasando como parámetro de entrada el valor 6 ya que vamos a generar todos los términos polinómicos de $x_1$ y $x_2$ hasta la potencia 6: en total hay 28 combinaciones (por tanto se generan 28 variables).\n",
    "* Una vez creado el objeto que nos permite realizar dicha transformación llamamos a la función `fit_transform` utilizando como parámetro la matriz $X$ que contiene los valores de las variables de entrada de nuestro problema.\n",
    "* Esta función tiene dos partes (fit y transform)\n",
    "    * La parte fit aprende los polinomios para generar las nuevas variables\n",
    "    * La parte transform aplica los polinomios generados para transformar los datos de entrada y que como consecuencia pasemos de tener dos variables de entrada a 28.\n",
    "\n",
    "**NOTA:** los términos polinómicos de las variables $a$ y $b$ hasta la potencia $p=3$ serían: $1, a, b, a^2, b^2, a^3, b^3, a \\cdot b, a \\cdot b^2, a^2\\cdot b^2$\n",
    "* Es decir, cada variable se eleva a todas las potencias entre 0 y p, y las combinaciones entre ellas no incluyen los términos elevados a p"
   ]
  },
  {
   "cell_type": "code",
   "execution_count": 32,
   "metadata": {},
   "outputs": [
    {
     "name": "stdout",
     "output_type": "stream",
     "text": [
      "(118, 28)\n",
      "[[ 1.00000000e+00  5.12670000e-02  6.99560000e-01 ...  6.29470940e-04\n",
      "   8.58939846e-03  1.17205992e-01]\n",
      " [ 1.00000000e+00 -9.27420000e-02  6.84940000e-01 ...  1.89305413e-03\n",
      "  -1.39810280e-02  1.03255971e-01]\n",
      " [ 1.00000000e+00 -2.13710000e-01  6.92250000e-01 ...  1.04882142e-02\n",
      "  -3.39734512e-02  1.10046893e-01]\n",
      " ...\n",
      " [ 1.00000000e+00 -4.84450000e-01  9.99270000e-01 ...  2.34007252e-01\n",
      "  -4.82684337e-01  9.95627986e-01]\n",
      " [ 1.00000000e+00 -6.33640000e-03  9.99270000e-01 ...  4.00328554e-05\n",
      "  -6.31330588e-03  9.95627986e-01]\n",
      " [ 1.00000000e+00  6.32650000e-01 -3.06120000e-02 ...  3.51474517e-07\n",
      "  -1.70067777e-08  8.22905998e-10]]\n"
     ]
    }
   ],
   "source": [
    "from sklearn.preprocessing import PolynomialFeatures\n",
    "\n",
    "poly = PolynomialFeatures(6)\n",
    "XX = poly.fit_transform(X) \n",
    "print XX.shape\n",
    "print XX"
   ]
  },
  {
   "cell_type": "markdown",
   "metadata": {},
   "source": [
    "#### Función de coste regularizada\n",
    "Al haber añadido tantas variables, corremos el serio riesgo de ajustarnos demasiado a los datos de entrenamiento (sobreaprender) y por tanto de no generalizar bien para nuevos ejemplos. Por ello, vamos a implementar la regresión logística con regularización en la que se penalizan aquellos parámetros con valores muy grandes, haciendo que el modelo no pueda ajustarse perfectamente a los datos de entrenamiento con el objetivo de obtener una mejor generalización.\n",
    "\n",
    "Veamos cómo cambia la función de coste.\n",
    "* Observar que se introduce el sumatorio de los parámetros $\\theta$ al cuadrado ponderado por el valor del parámetro $\\lambda$\n",
    "    * Si $\\lambda=0$ obtenemos la función de coste implementada en la primera parte de la práctica\n",
    "    * Si $\\lambda>0$ la función de coste trata de disminuir el valor de los parámetros $\\theta$ del modelo\n",
    "        * A mayor valor de $\\lambda$ menores serán los valores de los parámetros $\\theta$ que obtenedremos ya que trataremos de minimizarlos (al ser parte de la la función de coste)\n",
    "    \n",
    "#### $$ J(\\theta) = -\\frac{1}{m}\\sum_{i=1}^{m}\\big[y^{(i)}\\, log\\,( h_\\theta\\,(x^{(i)}))+(1-y^{(i)})\\,log\\,(1-h_\\theta(x^{(i)}))\\big] + \\frac{\\lambda}{2m}\\sum_{j=1}^{n}\\theta_{j}^{2}$$\n",
    "#### Función de coste vectorizada\n",
    "\n",
    "#### $$ J(\\theta) = -\\frac{1}{m}\\big((\\,log\\,(h_\\theta(X))^Ty+(\\,log\\,(1-h_\\theta(X))^T(1-y)\\big) + \\frac{\\lambda}{2m}\\sum_{j=1}^{n}\\theta_{j}^{2}$$\n",
    "\n",
    "donde\n",
    "\n",
    "$$ h_\\theta(X) = g(X\\cdot \\theta) $$"
   ]
  },
  {
   "cell_type": "markdown",
   "metadata": {},
   "source": [
    "Ahora, implementa la función de coste que inluye la regularización. Para ello se debe seguir usando la función sigmoide definida en la primera parte de la práctica.\n",
    "\n",
    "**CUIDADO: Recuerda que el $\\theta_0$ no se regulariza.**"
   ]
  },
  {
   "cell_type": "code",
   "execution_count": 33,
   "metadata": {},
   "outputs": [],
   "source": [
    "def funcionCosteRegularizada(theta, valorLambda, XX, y):\n",
    "    m = y.size\n",
    "    J=0\n",
    "    h=sigmoide(XX.dot(theta))\n",
    "    J=((np.log(h.T).dot(y)+ np.log(1-h.T).dot(1-y))/-float(m)) + (valorLambda/(2*float(m)))*(np.sum(theta[1:])**2)\n",
    "    #print J\n",
    "    return(J)"
   ]
  },
  {
   "cell_type": "markdown",
   "metadata": {},
   "source": [
    "Vamos a seguir los mismos pasos que antes para implementar la regresión logística regularizada. Para poder usar la función `minimize`, debemos crear una función que calcule las derivadas parciales de los parámetros. Recordamos las derivadas parciales de la regresión logística regularizada\n",
    "\n",
    "#### Derivada parcial\n",
    "\n",
    "#### $$ \\frac{\\delta J(\\theta)}{\\delta\\theta_{j}} = \\frac{1}{m}\\sum_{i=1}^{m} ( h_\\theta (x^{(i)})-y^{(i)})\\cdot x^{(i)}_{j} + \\frac{\\lambda}{m}\\theta_{j}$$ \n",
    "####  Derivada parcial vectorizada\n",
    "#### $$ \\frac{\\delta J(\\theta)}{\\delta\\theta_{j}} = \\frac{1}{m} X^T(h_\\theta(X)-y) + \\frac{\\lambda}{m}\\theta_{j}$$\n",
    "\n",
    "**CUIDADO: Recuerda que el $\\theta_0$ no se regulariza.**"
   ]
  },
  {
   "cell_type": "markdown",
   "metadata": {},
   "source": [
    "Definir la función que realiza la derivada parcial de los parámetros de la regresión logística regularizada en base al error cometido. Para ello se debe aplicar la ecuación de la derivada parcial vectorizada.\n",
    "\n",
    "**NOTA: Esta función la vamos a usar en una función minimize que realizará el descenso por gradiente. Dicha función en vez de pasar theta como una matriz de (3, 1), nos pasará una de (3, ) por lo que debes hacer un reshape antes de realizar el producto entre X y theta**"
   ]
  },
  {
   "cell_type": "code",
   "execution_count": 34,
   "metadata": {},
   "outputs": [],
   "source": [
    "def derivadaParcialRegularizada(theta, valorLambda, XX, y):\n",
    "    m = y.size\n",
    "    theta=theta.reshape(-1,1)\n",
    "    h=sigmoide(XX.dot(theta))\n",
    "    derParcial=(((XX.T).dot(h-y))/float(m)+(np.sum(theta[0:]))*(valorLambda/float(m)))\n",
    "    return(derParcial.flatten()) # La salida debe ser un vector"
   ]
  },
  {
   "cell_type": "markdown",
   "metadata": {},
   "source": [
    "Ejercicio:\n",
    "* Inicializa los valores iniciales de la regresión logística a una columna de ceros\n",
    "* Llama a la función que calcula el coste del modelo con los datos transformados ($XX$) mediante los polinomios aprendidos previamente y el parámetro $\\lambda=1.0$.\n",
    "* Llama a la función que calcula la derivada parcial con los mismos parámetros y comprueba que funciona correctamente."
   ]
  },
  {
   "cell_type": "code",
   "execution_count": 35,
   "metadata": {},
   "outputs": [
    {
     "name": "stdout",
     "output_type": "stream",
     "text": [
      "('Coste del modelo inicial: \\n', array([[0.69314718]]))\n",
      "1 test passed.\n",
      "('Derivada parcial: \\n', array([8.47457627e-03, 1.87880932e-02, 7.77711864e-05, 5.03446395e-02,\n",
      "       1.15013308e-02, 3.76648474e-02, 1.83559872e-02, 7.32393391e-03,\n",
      "       8.19244468e-03, 2.34764889e-02, 3.93486234e-02, 2.23923907e-03,\n",
      "       1.28600503e-02, 3.09593720e-03, 3.93028171e-02, 1.99707467e-02,\n",
      "       4.32983232e-03, 3.38643902e-03, 5.83822078e-03, 4.47629067e-03,\n",
      "       3.10079849e-02, 3.10312442e-02, 1.09740238e-03, 6.31570797e-03,\n",
      "       4.08503006e-04, 7.26504316e-03, 1.37646175e-03, 3.87936363e-02]))\n",
      "1 test passed.\n"
     ]
    }
   ],
   "source": [
    "\n",
    "# Columna de ceros como valores inciales de los parametros del modelo\n",
    "thetaInicial = np.zeros((XX.shape[1],1))\n",
    "\n",
    "# Llamada a la funcion que calcula el coste del modelo inicial\n",
    "coste =funcionCosteRegularizada(thetaInicial,1.0,XX,y) #<RELLENAR>\n",
    "# Llamada a la funcion que realiza la derivada parcial\n",
    "derParcial =derivadaParcialRegularizada(thetaInicial,1.0,XX,y) #<RELLENAR>\n",
    "derParcial.shape\n",
    "print('Coste del modelo inicial: \\n', coste)\n",
    "Test.assertEquals(round(coste, 5), 0.69315,'Valor de coste incorrecto')\n",
    "print('Derivada parcial: \\n', derParcial)\n",
    "Test.assertEquals(map(lambda ind: round(ind, 5), list(derParcial.ravel()[0:5])), [0.00847, 0.01879, 8e-05, 0.05034, 0.0115], 'Valores de la derivada parcial incorrectos')"
   ]
  },
  {
   "cell_type": "markdown",
   "metadata": {},
   "source": [
    "### Efecto de $\\lambda$ en los resultados\n",
    "Por último vamos a analizar el efecto del parámetro $\\lambda$ en los resultados obtenidos. Para ello vamos a analizar 3 valores: 0, 1 y 100. Para cada valor hay que realizar el siguiente proceso:\n",
    "* Llamar a la función `minimize` (descenso por gradiente) pasando como argumentos de entrada:\n",
    "    * La función que calcula el coste del modelo\n",
    "    * Los valores iniciales del modelo que acabamos de asignar (**en una fila**)\n",
    "    * Una tupla que contiene: el valor de $\\lambda$, los datos transformados con los polinomios (XX) y las clases de los 118 ejemplos (parámetro args)\n",
    "    * La función que realiza la derivada parcial de los parámetros del modelo (parámetro jac)\n",
    "    * El número máximo de iteraciones que lo fijamos a **3000**\n",
    "* Realizar la predicción de los ejemplos del histórico (datos guardados en XX) con el modelo aprendido (res2.x, que debes transformarlo a una columna) **(llamada a la función prediccion definida anteriormente)**\n",
    "* Calcular el porcentaje de acierto del modelo (se calcula como se ha realizado en la primera parte de la práctica)\n",
    "* Mostrar la gráfica con la frontera de decisión generada por el modelo aprendido (llamada a la función que muestra los datos y sobre la cual mostramos la frontera de decisión generada siguiendo el ejemplo de la primera parte de la prácitca)\n",
    "    * Como título de la figura mostrar el valor de $\\lambda$, el porcentaje de acierto\n",
    "* Mostrar los valores de los parámetros del modelo (print)\n",
    "\n",
    "Deberías ser capaz de obtener las siguientes figura:\n",
    "![Ejemplo](img6.png \"Ejemplo\")\n"
   ]
  },
  {
   "cell_type": "markdown",
   "metadata": {},
   "source": [
    "### Conclusiones\n",
    "\n",
    "Podéis observar los siguientes hechos:\n",
    "* Con $\\lambda=0$ el modelo obtenido es muy complejo puesto que está muy ajustado a los datos con los que ha sido aprendido. El porcentaje de acierto es muy alto (91.53%) y los valores de los parámetros $\\theta$ son **muy altos**\n",
    "* Con $\\lambda=1$ el modelo obtenido es más sencillo y ofrece un buen balance entre complejidad y porcentaje de acierto (83.05%). Los valores de los parámetros $\\theta$ son más bajos que antes.\n",
    "* Con $\\lambda=100$ el modelo obtenido es muy sencillo pero no se ajusta bien a los datos de entrenamiento y por tanto se obtiene un porcentaje de acierto muy bajo para este problema (61.02%). Los valores de los parámetros $\\theta$ son muy bajos."
   ]
  },
  {
   "cell_type": "code",
   "execution_count": 36,
   "metadata": {},
   "outputs": [
    {
     "name": "stderr",
     "output_type": "stream",
     "text": [
      "C:\\Python27\\lib\\site-packages\\ipykernel_launcher.py:2: RuntimeWarning: overflow encountered in exp\n",
      "  \n"
     ]
    },
    {
     "name": "stdout",
     "output_type": "stream",
     "text": [
      "thetas Para valor Lamba = 0.00\n",
      "[[   35.10189523]\n",
      " [   44.11913417]\n",
      " [   69.2718401 ]\n",
      " [ -344.27891578]\n",
      " [ -198.23456534]\n",
      " [ -184.22834314]\n",
      " [ -295.82026818]\n",
      " [ -621.73245335]\n",
      " [ -510.84908958]\n",
      " [ -328.3116398 ]\n",
      " [ 1094.69993987]\n",
      " [ 1269.58560093]\n",
      " [ 1757.74844844]\n",
      " [  900.93755913]\n",
      " [  436.58869001]\n",
      " [  471.12014659]\n",
      " [ 1236.2383538 ]\n",
      " [ 1822.81970614]\n",
      " [ 1929.66664062]\n",
      " [ 1131.0524645 ]\n",
      " [  463.79897523]\n",
      " [-1142.11701855]\n",
      " [-2020.95882025]\n",
      " [-3463.39884269]\n",
      " [-3484.50951434]\n",
      " [-3252.26611932]\n",
      " [-1546.00856375]\n",
      " [ -510.41242813]]\n",
      "thetas Para valor Lamba = 1.00\n",
      "[[ 3.31133915]\n",
      " [ 1.29349595]\n",
      " [ 2.62216916]\n",
      " [-7.03328686]\n",
      " [-6.50557241]\n",
      " [-4.33586077]\n",
      " [ 1.82289076]\n",
      " [-0.36723499]\n",
      " [-0.5710644 ]\n",
      " [-0.09329555]\n",
      " [-4.14010122]\n",
      " [ 1.20663032]\n",
      " [ 0.3441876 ]\n",
      " [-0.07086242]\n",
      " [-3.15845146]\n",
      " [ 1.15065525]\n",
      " [ 1.75114508]\n",
      " [ 2.77142126]\n",
      " [ 1.77068194]\n",
      " [ 1.00449934]\n",
      " [-0.41827414]\n",
      " [-2.02684856]\n",
      " [ 2.90745866]\n",
      " [ 2.32009398]\n",
      " [ 3.16288492]\n",
      " [ 2.09844995]\n",
      " [ 1.82619153]\n",
      " [-1.98913969]]\n",
      "thetas Para valor Lamba = 100.00\n",
      "[[ 0.33894961]\n",
      " [-0.07258568]\n",
      " [ 0.43917613]\n",
      " [-0.89108053]\n",
      " [ 0.05771354]\n",
      " [-0.53060776]\n",
      " [-0.06711745]\n",
      " [ 0.19345789]\n",
      " [ 0.16662211]\n",
      " [-0.17854385]\n",
      " [-0.61964837]\n",
      " [ 0.31993468]\n",
      " [ 0.056817  ]\n",
      " [ 0.29247137]\n",
      " [-0.58947311]\n",
      " [-0.11465667]\n",
      " [ 0.27095806]\n",
      " [ 0.29810526]\n",
      " [ 0.23513995]\n",
      " [ 0.26265262]\n",
      " [-0.37714844]\n",
      " [-0.4066437 ]\n",
      " [ 0.3548227 ]\n",
      " [ 0.22326143]\n",
      " [ 0.37259982]\n",
      " [ 0.20027898]\n",
      " [ 0.3422706 ]\n",
      " [-0.57937854]]\n"
     ]
    },
    {
     "data": {
      "image/png": "[encoded data removed]",
      "text/plain": [
       "<Figure size 1224x360 with 3 Axes>"
      ]
     },
     "metadata": {
      "needs_background": "light"
     },
     "output_type": "display_data"
    }
   ],
   "source": [
    "# Queremos una figura con 3 subplots\n",
    "fig, axes = plt.subplots(1,3, sharey = True, figsize=(17,5))\n",
    "\n",
    "# Fronteras de decisión\n",
    "# Lambda = 0.0 : No se realiza regularización --> modelo muy flexible: sobre-entrenado\n",
    "# Lambda = 1.0 : Parece que es un buen modelo: simple y preciso\n",
    "# Lambda = 100.0 : Demasiada regularización: mucho bías\n",
    "\n",
    "valoresLambda = [0.0,1.0,100.0]\n",
    "\n",
    "# Calculamos el mínimo y máximo de cada variable de entrada\n",
    "x1_min, x1_max = X[:,0].min(), X[:,0].max()\n",
    "x2_min, x2_max = X[:,1].min(), X[:,1].max()\n",
    "# Obtenemos todas las combinaciones de valores de las d\n",
    "# Obtenemos todas las combinaciones de valores de las dos variables (comprendidos entre el mínimo y el máximo y espaciados linealmente)\n",
    "xx1, xx2 = np.meshgrid(np.linspace(x1_min, x1_max), np.linspace(x2_min, x2_max))\n",
    "\n",
    "for i, valorLambda in enumerate(valoresLambda):\n",
    "    \n",
    "    # Optimización de los parámetros del modelo en base a la función de coste, utilizar minimize\n",
    "    res2 =minimize(funcionCosteRegularizada,thetaInicial.reshape(1,-1), args=((valorLambda),XX,y), jac=derivadaParcialRegularizada, options={'maxiter':3000})\n",
    "    # Ponemos los parámetros que están en res2.x en formato columna con reshape\n",
    "    thetas =res2.x.reshape(-1,1) \n",
    "    \n",
    "    h=sigmoide(poly.transform(np.hstack((xx1.reshape(-1,1),xx2.reshape(-1,1)))).dot(thetas))\n",
    "    h=h.reshape(xx1.shape)\n",
    "    # Obtener las predicciones del modelo (thetas) para los datos transformados con los polinomios (XX)\n",
    "    predicciones =prediccion(thetas,XX) \n",
    "    aux=np.equal(predicciones,y)\n",
    "    # Calcular el porcentaje de acierto como hemos realizado en la primera parte de la práctica\n",
    "    accuracy =(np.sum(aux)/float(predicciones.size))*100 #<RELLENAR>\n",
    "    # Gráfica que muestra los ejemplos, utiliza como último parámetro axes.flatten()[i] (le pasamos el manejador de la figura correspondiente)\n",
    "    muestraGrafica(data2,'Resultado test 1','Resultado test 2','Aceptados','Rechazados',axes.flatten()[i])\n",
    "    axes[i].set_title(\"Porcentaje de acierto %.2f con Lambda= %.1f\"%(accuracy,valorLambda))\n",
    "    # Mostramos la frontera de decisión, recuerda utilizar axes.flatten()[i] para utilizar el plot correspondiente\n",
    "    axes.flatten()[i].contour(xx1, xx2, h, [0.5], linewidths=1, colors='b');\n",
    "    \n",
    "\n",
    "    \n",
    "    # Mostrar los valores de theta para cada lambda \"Los valores de theta para lambda = XX son [a, b, c...]\"\n",
    "    print \"thetas Para valor Lamba = %.2f\"%(valorLambda)\n",
    "    print thetas"
   ]
  },
  {
   "cell_type": "markdown",
   "metadata": {},
   "source": [
    "### Regresión logística regularizada con Scikit-learn\n",
    "En este apartado vamos a tratar de replicar el resultado anterior con el paquete scikit-learn: http://scikit-learn.org/stable/modules/generated/sklearn.linear_model.LogisticRegression.html#sklearn.linear_model.LogisticRegression\n",
    "\n",
    "Para ello, vamos a volver a pintar las gráficas anteriores pero entrenaremos el modelo con la clase LogisticRegression de scikit-learn. \n",
    " \n",
    "`LogisticRegression` requiere de los siguientes parámetros:\n",
    "* penalty: Elegir 'l2' (es el tipo de regularización a realizar)\n",
    "* C: Es el valor que corresponde a lambda, pero en este caso $ C = 1/\\lambda$. Tenlo en cuenta a la hora de establecer el valor de C. Cuando no queremos aplicar la regularización, este valor debe ser muy alto, por lo que el valor de lambda debe ser muy bajo, por ejemplo $lambda =0.1e-100$\n",
    "* max_iter: Número máximo de iteraciones para el descenso por gradiente (400)\n",
    "* solver: Este es el método a utilizar para buscar el mínimo. Puede ser cualquiera de entre {‘newton-cg’, ‘lbfgs’, ‘liblinear’, ‘sag’}. Utilizar newton-cg para esta prueba\n",
    "\n",
    "Una vez creado el objeto de `LogisticRegression` debes utilizar el método `fit`. Como entrada toma la matriz $X$ (**CUIDADO** sin coger la columna de unos) y el vector $y$ (ponerlo en modo vector usando ravel).\n",
    "\n",
    "Con dicha operación logramos ajustar los parámetros y ya podemos usar el objeto para predecir nuevos valores (los coeficientes obtenidos están en coef$\\_$ y intercept$\\_$, pero es más sencillo utilizar la función `predict_proba` para obtener las probabilidades de salida para cada ejemplo. Esta función recibe la matriz $X$ de entrada (sin la columna de unos) y devuelve una matriz de $m \\times 2$. De esta matriz solo nos interesa la segunda columna que es la que tiene la probabilidad de que un ejemplo pertenezca a la clase 1. \n",
    "\n",
    "Utiliza los conocimientos adquiridos en la primera parte de la práctica y en el ejercicio anterior para obtener unas figuras lo más parecidas posibles a las anteriores.\n",
    "\n",
    "**Nota:** Para calcular el porcentaje de acierto puedes usar el método `LogisticRegression.predict()` que devuelve la clase asignada a cada ejemplo."
   ]
  },
  {
   "cell_type": "code",
   "execution_count": 37,
   "metadata": {},
   "outputs": [
    {
     "name": "stderr",
     "output_type": "stream",
     "text": [
      "C:\\Python27\\lib\\site-packages\\sklearn\\linear_model\\base.py:297: RuntimeWarning: overflow encountered in exp\n",
      "  np.exp(prob, prob)\n"
     ]
    },
    {
     "name": "stdout",
     "output_type": "stream",
     "text": [
      "thetas Para valor Lamba = 0.00\n",
      "[[ 0.33894961]\n",
      " [-0.07258568]\n",
      " [ 0.43917613]\n",
      " [-0.89108053]\n",
      " [ 0.05771354]\n",
      " [-0.53060776]\n",
      " [-0.06711745]\n",
      " [ 0.19345789]\n",
      " [ 0.16662211]\n",
      " [-0.17854385]\n",
      " [-0.61964837]\n",
      " [ 0.31993468]\n",
      " [ 0.056817  ]\n",
      " [ 0.29247137]\n",
      " [-0.58947311]\n",
      " [-0.11465667]\n",
      " [ 0.27095806]\n",
      " [ 0.29810526]\n",
      " [ 0.23513995]\n",
      " [ 0.26265262]\n",
      " [-0.37714844]\n",
      " [-0.4066437 ]\n",
      " [ 0.3548227 ]\n",
      " [ 0.22326143]\n",
      " [ 0.37259982]\n",
      " [ 0.20027898]\n",
      " [ 0.3422706 ]\n",
      " [-0.57937854]]\n",
      "thetas Para valor Lamba = 1.00\n",
      "[[ 0.33894961]\n",
      " [-0.07258568]\n",
      " [ 0.43917613]\n",
      " [-0.89108053]\n",
      " [ 0.05771354]\n",
      " [-0.53060776]\n",
      " [-0.06711745]\n",
      " [ 0.19345789]\n",
      " [ 0.16662211]\n",
      " [-0.17854385]\n",
      " [-0.61964837]\n",
      " [ 0.31993468]\n",
      " [ 0.056817  ]\n",
      " [ 0.29247137]\n",
      " [-0.58947311]\n",
      " [-0.11465667]\n",
      " [ 0.27095806]\n",
      " [ 0.29810526]\n",
      " [ 0.23513995]\n",
      " [ 0.26265262]\n",
      " [-0.37714844]\n",
      " [-0.4066437 ]\n",
      " [ 0.3548227 ]\n",
      " [ 0.22326143]\n",
      " [ 0.37259982]\n",
      " [ 0.20027898]\n",
      " [ 0.3422706 ]\n",
      " [-0.57937854]]\n",
      "thetas Para valor Lamba = 100.00\n",
      "[[ 0.33894961]\n",
      " [-0.07258568]\n",
      " [ 0.43917613]\n",
      " [-0.89108053]\n",
      " [ 0.05771354]\n",
      " [-0.53060776]\n",
      " [-0.06711745]\n",
      " [ 0.19345789]\n",
      " [ 0.16662211]\n",
      " [-0.17854385]\n",
      " [-0.61964837]\n",
      " [ 0.31993468]\n",
      " [ 0.056817  ]\n",
      " [ 0.29247137]\n",
      " [-0.58947311]\n",
      " [-0.11465667]\n",
      " [ 0.27095806]\n",
      " [ 0.29810526]\n",
      " [ 0.23513995]\n",
      " [ 0.26265262]\n",
      " [-0.37714844]\n",
      " [-0.4066437 ]\n",
      " [ 0.3548227 ]\n",
      " [ 0.22326143]\n",
      " [ 0.37259982]\n",
      " [ 0.20027898]\n",
      " [ 0.3422706 ]\n",
      " [-0.57937854]]\n"
     ]
    },
    {
     "data": {
      "image/png": "[encoded data removed]",
      "text/plain": [
       "<Figure size 1224x360 with 3 Axes>"
      ]
     },
     "metadata": {
      "needs_background": "light"
     },
     "output_type": "display_data"
    }
   ],
   "source": [
    "# Se importa de la libreria scikit-learn de python (sklearn) el paquete correspondiente a la regresión lineal\n",
    "from sklearn.linear_model import LogisticRegression\n",
    "\n",
    "fig, axes = plt.subplots(1,3, sharey = True, figsize=(17,5))\n",
    "\n",
    "# Fronteras de decisión\n",
    "# Lambda = 0 : No se realiza regularización --> modelo muy flexible: sobre-entrenado\n",
    "# Lambda = 1 : Parece que es un buen modelo: simple y preciso\n",
    "# Lambda = 100 : Demasiada regularización: mucho bías\n",
    "\n",
    "valoresLambda = [0.0000000000000000001,1.0,100.0]\n",
    "\n",
    "# Calculamos el mínimo y máximo de cada variable de entrada\n",
    "x1_min, x1_max = X[:,0].min(), X[:,0].max(),\n",
    "x2_min, x2_max = X[:,1].min(), X[:,1].max(),\n",
    "\n",
    "xx1, xx2 = np.meshgrid(np.linspace(x1_min, x1_max), np.linspace(x2_min, x2_max))\n",
    "\n",
    "\n",
    "for i, valorLambda in enumerate(valoresLambda):\n",
    " \n",
    "    #solver : {‘newton-cg’, ‘lbfgs’, ‘liblinear’, ‘sag’}\n",
    "    # Se incializa el modelo llamando al constructor de la regresión lineal: todos los parámetros se asignan a sus valores por defecto\n",
    "    LogReg = LogisticRegression(penalty='l2',C=1/valorLambda,solver=\"newton-cg\",max_iter=400)#<RELLENAR>)\n",
    "    # Utiliza fit para ajustar el modelo a los datos XX con clases y\n",
    "    LogReg.fit(XX[:,:],y.ravel())\n",
    "    h2= LogReg.predict_proba(poly.transform(np.hstack((xx1.reshape(-1,1),xx2.reshape(-1,1)))))[:,1]\n",
    "    h2= h2.reshape(xx1.shape)\n",
    "    # Cálculo del porcentaje de acierto\n",
    "    predicciones = LogReg.predict(XX)\n",
    "    q=np.equal(predicciones,y.ravel())#<RELLENAR>\n",
    "    accuracy =(np.sum(q)/float(predicciones.size))*100.0 #<RELLENAR> \n",
    "    # Gráfica que muestra los ejemplos, utiliza como último parámetro axes.flatten()[i] (le pasamos el manejador de la figura correspondiente)   \n",
    "    muestraGrafica(data2,'Resultado test 1','Resultado test 2','Aceptados','Rechazados',axes.flatten()[i])\n",
    "    axes.flatten()[i].set_title(\"Porcentaje de acierto %.2f con Lambda= %.1f\"%(accuracy,valorLambda))\n",
    "    # Mostramos la frontera de decisión, recuerda utilizar axes.flatten()[i] para utilizar el plot correspondiente\n",
    "     \n",
    "    axes.flatten()[i].contour(xx1, xx2, h2, [0.5], linewidths=1, colors='b');\n",
    "    \n",
    "    # Mostrar los valores de theta para cada lambda \"Los valores de theta para lambda = XX son [a, b, c...]\"\n",
    "    print \"thetas Para valor Lamba = %.2f\"%(valorLambda)\n",
    "    print thetas"
   ]
  },
  {
   "cell_type": "code",
   "execution_count": null,
   "metadata": {
    "collapsed": true
   },
   "outputs": [],
   "source": []
  },
  {
   "cell_type": "code",
   "execution_count": null,
   "metadata": {
    "collapsed": true
   },
   "outputs": [],
   "source": []
  },
  {
   "cell_type": "code",
   "execution_count": null,
   "metadata": {
    "collapsed": true
   },
   "outputs": [],
   "source": []
  }
 ],
 "metadata": {
  "anaconda-cloud": {},
  "kernelspec": {
   "display_name": "Python 2",
   "language": "python",
   "name": "python2"
  },
  "language_info": {
   "codemirror_mode": {
    "name": "ipython",
    "version": 2
   },
   "file_extension": ".py",
   "mimetype": "text/x-python",
   "name": "python",
   "nbconvert_exporter": "python",
   "pygments_lexer": "ipython2",
   "version": "2.7.13"
  }
 },
 "nbformat": 4,
 "nbformat_minor": 1
}
